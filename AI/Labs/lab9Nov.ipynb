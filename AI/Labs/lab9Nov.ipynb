{
 "cells": [
  {
   "cell_type": "markdown",
   "metadata": {},
   "source": [
    "<h1> Lab - Dataset Alcohol </h1>\n",
    "<p> Build a classifier for dataset alcohol.</p>\n"
   ]
  },
  {
   "cell_type": "code",
   "execution_count": 153,
   "metadata": {},
   "outputs": [],
   "source": [
    "%reload_ext autoreload\n",
    "%autoreload 2\n",
    "%matplotlib inline"
   ]
  },
  {
   "cell_type": "code",
   "execution_count": 154,
   "metadata": {},
   "outputs": [],
   "source": [
    "import pandas as pd\n",
    "import numpy as np\n",
    "import matplotlib.pyplot as plt"
   ]
  },
  {
   "cell_type": "code",
   "execution_count": 155,
   "metadata": {},
   "outputs": [],
   "source": [
    "from pandas.tools.plotting import scatter_matrix\n",
    "from sklearn.linear_model import LogisticRegression\n",
    "from sklearn.dummy import DummyClassifier\n",
    "\n",
    "from sklearn.model_selection import cross_val_predict\n",
    "from sklearn.metrics import confusion_matrix\n",
    "\n",
    "from sklearn.pipeline import Pipeline\n",
    "from sklearn.pipeline import FeatureUnion\n",
    "from sklearn.base import BaseEstimator, TransformerMixin\n",
    "\n",
    "from sklearn.preprocessing import LabelEncoder\n",
    "from sklearn.preprocessing import OneHotEncoder\n",
    "from sklearn.preprocessing import Imputer\n",
    "from sklearn.preprocessing import StandardScaler\n",
    "\n",
    "from sklearn.decomposition import PCA\n",
    "\n",
    "from sklearn.linear_model import LinearRegression\n",
    "\n",
    "from sklearn.metrics import mean_squared_error\n",
    "from sklearn.metrics import mean_absolute_error\n",
    "\n",
    "from sklearn.model_selection import cross_val_score\n",
    "from sklearn.model_selection import ShuffleSplit\n",
    "from sklearn.model_selection import KFold\n",
    "\n",
    "# Class, for use in pipelines, to select certain columns from a DataFrame and convert to a numpy array\n",
    "# From A. Geron: Hands-On Machine Learning with Scikit-Learn & TensorFlow, O'Reilly, 2017\n",
    "# Modified by Derek Bridge to allow for casting in the same ways as pandas.DatFrame.astype\n",
    "class DataFrameSelector(BaseEstimator, TransformerMixin):\n",
    "    def __init__(self, attribute_names, dtype=None):\n",
    "        self.attribute_names = attribute_names\n",
    "        self.dtype = dtype\n",
    "    def fit(self, X, y=None):\n",
    "        return self\n",
    "    def transform(self, X):\n",
    "        X_selected = X[self.attribute_names]\n",
    "        if self.dtype:\n",
    "            return X_selected.astype(self.dtype).values\n",
    "        return X_selected.values\n",
    "\n",
    "# Class, for use in pipelines, to binarize nominal-valued features (while avoiding the dummy variabe trap)\n",
    "# By Derek Bridge, 2017\n",
    "class FeatureBinarizer(BaseEstimator, TransformerMixin):\n",
    "    def __init__(self, features_values):\n",
    "        self.features_values = features_values\n",
    "        self.num_features = len(features_values)\n",
    "        self.labelencodings = [LabelEncoder().fit(feature_values) for feature_values in features_values]\n",
    "        self.onehotencoder = OneHotEncoder(sparse=False,\n",
    "            n_values=[len(feature_values) for feature_values in features_values])\n",
    "        self.last_indexes = np.cumsum([len(feature_values) - 1 for feature_values in self.features_values])\n",
    "    def fit(self, X, y=None):\n",
    "        for i in range(0, self.num_features):\n",
    "            X[:, i] = self.labelencodings[i].transform(X[:, i])\n",
    "        return self.onehotencoder.fit(X)\n",
    "    def transform(self, X, y=None):\n",
    "        for i in range(0, self.num_features):\n",
    "            X[:, i] = self.labelencodings[i].transform(X[:, i])\n",
    "        onehotencoded = self.onehotencoder.transform(X)\n",
    "        return np.delete(onehotencoded, self.last_indexes, axis=1)\n",
    "    def fit_transform(self, X, y=None):\n",
    "        onehotencoded = self.fit(X).transform(X)\n",
    "        return np.delete(onehotencoded, self.last_indexes, axis=1)\n",
    "    def get_params(self, deep=True):\n",
    "        return {\"features_values\" : self.features_values}\n",
    "    def set_params(self, **parameters):\n",
    "        for parameter, value in parameters.items():\n",
    "            self.setattr(parameter, value)\n",
    "        return self\n",
    "\n",
    "# Class, for use in pipelines, to impute missing values but which overcomes a problem that scikit-learn's class has\n",
    "# when imputing modes on nominal-valued features\n",
    "# From https://stackoverflow.com/questions/25239958/impute-categorical-missing-values-in-scikit-learn\n",
    "# Original has a casting problem\n",
    "# Fixed by Derek Bridge 2017\n",
    "class MissingValueImputer(Imputer):\n",
    "    def __init__(self, **kwargs):\n",
    "        Imputer.__init__(self, **kwargs)\n",
    "    def fit(self, X, y=None):\n",
    "        if self.strategy == \"most_frequent\":\n",
    "            self.fills = pd.DataFrame(X).mode(axis=0).squeeze() \n",
    "            return self\n",
    "        else:\n",
    "            return Imputer.fit(self, X, y=y)\n",
    "    def transform(self, X):\n",
    "        if hasattr(self, \"fills\"):\n",
    "            return pd.DataFrame(X).fillna(self.fills).values\n",
    "        else:\n",
    "            return Imputer.transform(self, X)"
   ]
  },
  {
   "cell_type": "code",
   "execution_count": 156,
   "metadata": {},
   "outputs": [],
   "source": [
    "#read the data from file\n",
    "df = pd.read_csv('datasets/dataset_alcohol.csv')"
   ]
  },
  {
   "cell_type": "code",
   "execution_count": 157,
   "metadata": {},
   "outputs": [
    {
     "data": {
      "text/plain": [
       "(76, 9)"
      ]
     },
     "execution_count": 157,
     "metadata": {},
     "output_type": "execute_result"
    }
   ],
   "source": [
    "df.shape"
   ]
  },
  {
   "cell_type": "code",
   "execution_count": 158,
   "metadata": {},
   "outputs": [
    {
     "data": {
      "text/plain": [
       "Index(['age_yrs', 'height_cm', 'weight_kg', 'duration_mins', 'elapsed_mins',\n",
       "       'sex', 'last_meal', 'units', 'over_limit'],\n",
       "      dtype='object')"
      ]
     },
     "execution_count": 158,
     "metadata": {},
     "output_type": "execute_result"
    }
   ],
   "source": [
    "df.columns\n"
   ]
  },
  {
   "cell_type": "code",
   "execution_count": 159,
   "metadata": {},
   "outputs": [
    {
     "data": {
      "text/plain": [
       "age_yrs            int64\n",
       "height_cm          int64\n",
       "weight_kg          int64\n",
       "duration_mins     object\n",
       "elapsed_mins      object\n",
       "sex               object\n",
       "last_meal         object\n",
       "units            float64\n",
       "over_limit        object\n",
       "dtype: object"
      ]
     },
     "execution_count": 159,
     "metadata": {},
     "output_type": "execute_result"
    }
   ],
   "source": [
    "df.dtypes"
   ]
  },
  {
   "cell_type": "code",
   "execution_count": 160,
   "metadata": {},
   "outputs": [
    {
     "data": {
      "text/html": [
       "<div>\n",
       "<style>\n",
       "    .dataframe thead tr:only-child th {\n",
       "        text-align: right;\n",
       "    }\n",
       "\n",
       "    .dataframe thead th {\n",
       "        text-align: left;\n",
       "    }\n",
       "\n",
       "    .dataframe tbody tr th {\n",
       "        vertical-align: top;\n",
       "    }\n",
       "</style>\n",
       "<table border=\"1\" class=\"dataframe\">\n",
       "  <thead>\n",
       "    <tr style=\"text-align: right;\">\n",
       "      <th></th>\n",
       "      <th>age_yrs</th>\n",
       "      <th>height_cm</th>\n",
       "      <th>weight_kg</th>\n",
       "      <th>duration_mins</th>\n",
       "      <th>elapsed_mins</th>\n",
       "      <th>sex</th>\n",
       "      <th>last_meal</th>\n",
       "      <th>units</th>\n",
       "      <th>over_limit</th>\n",
       "    </tr>\n",
       "  </thead>\n",
       "  <tbody>\n",
       "    <tr>\n",
       "      <th>count</th>\n",
       "      <td>76.000000</td>\n",
       "      <td>76.000000</td>\n",
       "      <td>76.000000</td>\n",
       "      <td>76</td>\n",
       "      <td>76</td>\n",
       "      <td>76</td>\n",
       "      <td>76</td>\n",
       "      <td>76.000000</td>\n",
       "      <td>76</td>\n",
       "    </tr>\n",
       "    <tr>\n",
       "      <th>unique</th>\n",
       "      <td>NaN</td>\n",
       "      <td>NaN</td>\n",
       "      <td>NaN</td>\n",
       "      <td>16</td>\n",
       "      <td>9</td>\n",
       "      <td>2</td>\n",
       "      <td>5</td>\n",
       "      <td>NaN</td>\n",
       "      <td>2</td>\n",
       "    </tr>\n",
       "    <tr>\n",
       "      <th>top</th>\n",
       "      <td>NaN</td>\n",
       "      <td>NaN</td>\n",
       "      <td>NaN</td>\n",
       "      <td>120</td>\n",
       "      <td>10</td>\n",
       "      <td>Male</td>\n",
       "      <td>Full</td>\n",
       "      <td>NaN</td>\n",
       "      <td>No</td>\n",
       "    </tr>\n",
       "    <tr>\n",
       "      <th>freq</th>\n",
       "      <td>NaN</td>\n",
       "      <td>NaN</td>\n",
       "      <td>NaN</td>\n",
       "      <td>15</td>\n",
       "      <td>61</td>\n",
       "      <td>60</td>\n",
       "      <td>33</td>\n",
       "      <td>NaN</td>\n",
       "      <td>46</td>\n",
       "    </tr>\n",
       "    <tr>\n",
       "      <th>mean</th>\n",
       "      <td>22.657895</td>\n",
       "      <td>176.644737</td>\n",
       "      <td>71.486842</td>\n",
       "      <td>NaN</td>\n",
       "      <td>NaN</td>\n",
       "      <td>NaN</td>\n",
       "      <td>NaN</td>\n",
       "      <td>8.632895</td>\n",
       "      <td>NaN</td>\n",
       "    </tr>\n",
       "    <tr>\n",
       "      <th>std</th>\n",
       "      <td>5.627439</td>\n",
       "      <td>8.453329</td>\n",
       "      <td>11.474602</td>\n",
       "      <td>NaN</td>\n",
       "      <td>NaN</td>\n",
       "      <td>NaN</td>\n",
       "      <td>NaN</td>\n",
       "      <td>5.775567</td>\n",
       "      <td>NaN</td>\n",
       "    </tr>\n",
       "    <tr>\n",
       "      <th>min</th>\n",
       "      <td>18.000000</td>\n",
       "      <td>157.000000</td>\n",
       "      <td>47.000000</td>\n",
       "      <td>NaN</td>\n",
       "      <td>NaN</td>\n",
       "      <td>NaN</td>\n",
       "      <td>NaN</td>\n",
       "      <td>0.000000</td>\n",
       "      <td>NaN</td>\n",
       "    </tr>\n",
       "    <tr>\n",
       "      <th>25%</th>\n",
       "      <td>19.000000</td>\n",
       "      <td>172.000000</td>\n",
       "      <td>63.000000</td>\n",
       "      <td>NaN</td>\n",
       "      <td>NaN</td>\n",
       "      <td>NaN</td>\n",
       "      <td>NaN</td>\n",
       "      <td>4.275000</td>\n",
       "      <td>NaN</td>\n",
       "    </tr>\n",
       "    <tr>\n",
       "      <th>50%</th>\n",
       "      <td>21.000000</td>\n",
       "      <td>177.000000</td>\n",
       "      <td>72.000000</td>\n",
       "      <td>NaN</td>\n",
       "      <td>NaN</td>\n",
       "      <td>NaN</td>\n",
       "      <td>NaN</td>\n",
       "      <td>8.400000</td>\n",
       "      <td>NaN</td>\n",
       "    </tr>\n",
       "    <tr>\n",
       "      <th>75%</th>\n",
       "      <td>23.000000</td>\n",
       "      <td>182.000000</td>\n",
       "      <td>79.000000</td>\n",
       "      <td>NaN</td>\n",
       "      <td>NaN</td>\n",
       "      <td>NaN</td>\n",
       "      <td>NaN</td>\n",
       "      <td>12.100000</td>\n",
       "      <td>NaN</td>\n",
       "    </tr>\n",
       "    <tr>\n",
       "      <th>max</th>\n",
       "      <td>45.000000</td>\n",
       "      <td>200.000000</td>\n",
       "      <td>101.000000</td>\n",
       "      <td>NaN</td>\n",
       "      <td>NaN</td>\n",
       "      <td>NaN</td>\n",
       "      <td>NaN</td>\n",
       "      <td>31.200000</td>\n",
       "      <td>NaN</td>\n",
       "    </tr>\n",
       "  </tbody>\n",
       "</table>\n",
       "</div>"
      ],
      "text/plain": [
       "          age_yrs   height_cm   weight_kg duration_mins elapsed_mins   sex  \\\n",
       "count   76.000000   76.000000   76.000000            76           76    76   \n",
       "unique        NaN         NaN         NaN            16            9     2   \n",
       "top           NaN         NaN         NaN           120           10  Male   \n",
       "freq          NaN         NaN         NaN            15           61    60   \n",
       "mean    22.657895  176.644737   71.486842           NaN          NaN   NaN   \n",
       "std      5.627439    8.453329   11.474602           NaN          NaN   NaN   \n",
       "min     18.000000  157.000000   47.000000           NaN          NaN   NaN   \n",
       "25%     19.000000  172.000000   63.000000           NaN          NaN   NaN   \n",
       "50%     21.000000  177.000000   72.000000           NaN          NaN   NaN   \n",
       "75%     23.000000  182.000000   79.000000           NaN          NaN   NaN   \n",
       "max     45.000000  200.000000  101.000000           NaN          NaN   NaN   \n",
       "\n",
       "       last_meal      units over_limit  \n",
       "count         76  76.000000         76  \n",
       "unique         5        NaN          2  \n",
       "top         Full        NaN         No  \n",
       "freq          33        NaN         46  \n",
       "mean         NaN   8.632895        NaN  \n",
       "std          NaN   5.775567        NaN  \n",
       "min          NaN   0.000000        NaN  \n",
       "25%          NaN   4.275000        NaN  \n",
       "50%          NaN   8.400000        NaN  \n",
       "75%          NaN  12.100000        NaN  \n",
       "max          NaN  31.200000        NaN  "
      ]
     },
     "execution_count": 160,
     "metadata": {},
     "output_type": "execute_result"
    }
   ],
   "source": [
    "df.describe(include='all')"
   ]
  },
  {
   "cell_type": "code",
   "execution_count": 161,
   "metadata": {},
   "outputs": [
    {
     "data": {
      "text/html": [
       "<div>\n",
       "<style>\n",
       "    .dataframe thead tr:only-child th {\n",
       "        text-align: right;\n",
       "    }\n",
       "\n",
       "    .dataframe thead th {\n",
       "        text-align: left;\n",
       "    }\n",
       "\n",
       "    .dataframe tbody tr th {\n",
       "        vertical-align: top;\n",
       "    }\n",
       "</style>\n",
       "<table border=\"1\" class=\"dataframe\">\n",
       "  <thead>\n",
       "    <tr style=\"text-align: right;\">\n",
       "      <th></th>\n",
       "      <th>age_yrs</th>\n",
       "      <th>height_cm</th>\n",
       "      <th>weight_kg</th>\n",
       "      <th>duration_mins</th>\n",
       "      <th>elapsed_mins</th>\n",
       "      <th>sex</th>\n",
       "      <th>last_meal</th>\n",
       "      <th>units</th>\n",
       "      <th>over_limit</th>\n",
       "    </tr>\n",
       "  </thead>\n",
       "  <tbody>\n",
       "    <tr>\n",
       "      <th>0</th>\n",
       "      <td>40</td>\n",
       "      <td>170</td>\n",
       "      <td>75</td>\n",
       "      <td>?</td>\n",
       "      <td>?</td>\n",
       "      <td>Male</td>\n",
       "      <td>Lunch</td>\n",
       "      <td>0.0</td>\n",
       "      <td>No</td>\n",
       "    </tr>\n",
       "    <tr>\n",
       "      <th>1</th>\n",
       "      <td>26</td>\n",
       "      <td>177</td>\n",
       "      <td>76</td>\n",
       "      <td>60</td>\n",
       "      <td>10</td>\n",
       "      <td>Male</td>\n",
       "      <td>Full</td>\n",
       "      <td>2.9</td>\n",
       "      <td>No</td>\n",
       "    </tr>\n",
       "    <tr>\n",
       "      <th>2</th>\n",
       "      <td>24</td>\n",
       "      <td>160</td>\n",
       "      <td>60</td>\n",
       "      <td>60</td>\n",
       "      <td>10</td>\n",
       "      <td>Female</td>\n",
       "      <td>Full</td>\n",
       "      <td>2.6</td>\n",
       "      <td>No</td>\n",
       "    </tr>\n",
       "    <tr>\n",
       "      <th>3</th>\n",
       "      <td>29</td>\n",
       "      <td>160</td>\n",
       "      <td>63</td>\n",
       "      <td>90</td>\n",
       "      <td>10</td>\n",
       "      <td>Female</td>\n",
       "      <td>Full</td>\n",
       "      <td>1.2</td>\n",
       "      <td>No</td>\n",
       "    </tr>\n",
       "    <tr>\n",
       "      <th>4</th>\n",
       "      <td>23</td>\n",
       "      <td>182</td>\n",
       "      <td>63</td>\n",
       "      <td>120</td>\n",
       "      <td>10</td>\n",
       "      <td>Male</td>\n",
       "      <td>Full</td>\n",
       "      <td>5.2</td>\n",
       "      <td>No</td>\n",
       "    </tr>\n",
       "    <tr>\n",
       "      <th>5</th>\n",
       "      <td>19</td>\n",
       "      <td>165</td>\n",
       "      <td>51</td>\n",
       "      <td>120</td>\n",
       "      <td>10</td>\n",
       "      <td>Female</td>\n",
       "      <td>Lunch</td>\n",
       "      <td>5.2</td>\n",
       "      <td>Yes</td>\n",
       "    </tr>\n",
       "    <tr>\n",
       "      <th>6</th>\n",
       "      <td>20</td>\n",
       "      <td>185</td>\n",
       "      <td>66</td>\n",
       "      <td>120</td>\n",
       "      <td>10</td>\n",
       "      <td>Male</td>\n",
       "      <td>Snack</td>\n",
       "      <td>5.2</td>\n",
       "      <td>No</td>\n",
       "    </tr>\n",
       "    <tr>\n",
       "      <th>7</th>\n",
       "      <td>23</td>\n",
       "      <td>185</td>\n",
       "      <td>84</td>\n",
       "      <td>150</td>\n",
       "      <td>10</td>\n",
       "      <td>Male</td>\n",
       "      <td>Lunch</td>\n",
       "      <td>15.0</td>\n",
       "      <td>No</td>\n",
       "    </tr>\n",
       "    <tr>\n",
       "      <th>8</th>\n",
       "      <td>23</td>\n",
       "      <td>170</td>\n",
       "      <td>66</td>\n",
       "      <td>60</td>\n",
       "      <td>30</td>\n",
       "      <td>Male</td>\n",
       "      <td>?</td>\n",
       "      <td>4.5</td>\n",
       "      <td>No</td>\n",
       "    </tr>\n",
       "    <tr>\n",
       "      <th>9</th>\n",
       "      <td>18</td>\n",
       "      <td>177</td>\n",
       "      <td>82</td>\n",
       "      <td>60</td>\n",
       "      <td>10</td>\n",
       "      <td>Male</td>\n",
       "      <td>Full</td>\n",
       "      <td>2.6</td>\n",
       "      <td>No</td>\n",
       "    </tr>\n",
       "    <tr>\n",
       "      <th>10</th>\n",
       "      <td>18</td>\n",
       "      <td>177</td>\n",
       "      <td>82</td>\n",
       "      <td>60</td>\n",
       "      <td>10</td>\n",
       "      <td>Male</td>\n",
       "      <td>Full</td>\n",
       "      <td>2.4</td>\n",
       "      <td>No</td>\n",
       "    </tr>\n",
       "    <tr>\n",
       "      <th>11</th>\n",
       "      <td>25</td>\n",
       "      <td>177</td>\n",
       "      <td>71</td>\n",
       "      <td>60</td>\n",
       "      <td>10</td>\n",
       "      <td>Male</td>\n",
       "      <td>Snack</td>\n",
       "      <td>10.0</td>\n",
       "      <td>No</td>\n",
       "    </tr>\n",
       "    <tr>\n",
       "      <th>12</th>\n",
       "      <td>18</td>\n",
       "      <td>185</td>\n",
       "      <td>79</td>\n",
       "      <td>240</td>\n",
       "      <td>10</td>\n",
       "      <td>Male</td>\n",
       "      <td>Full</td>\n",
       "      <td>9.6</td>\n",
       "      <td>Yes</td>\n",
       "    </tr>\n",
       "    <tr>\n",
       "      <th>13</th>\n",
       "      <td>18</td>\n",
       "      <td>187</td>\n",
       "      <td>82</td>\n",
       "      <td>120</td>\n",
       "      <td>10</td>\n",
       "      <td>Male</td>\n",
       "      <td>Full</td>\n",
       "      <td>5.0</td>\n",
       "      <td>No</td>\n",
       "    </tr>\n",
       "    <tr>\n",
       "      <th>14</th>\n",
       "      <td>18</td>\n",
       "      <td>172</td>\n",
       "      <td>57</td>\n",
       "      <td>240</td>\n",
       "      <td>10</td>\n",
       "      <td>Male</td>\n",
       "      <td>Full</td>\n",
       "      <td>12.6</td>\n",
       "      <td>Yes</td>\n",
       "    </tr>\n",
       "    <tr>\n",
       "      <th>15</th>\n",
       "      <td>21</td>\n",
       "      <td>177</td>\n",
       "      <td>88</td>\n",
       "      <td>90</td>\n",
       "      <td>10</td>\n",
       "      <td>Male</td>\n",
       "      <td>Full</td>\n",
       "      <td>5.2</td>\n",
       "      <td>No</td>\n",
       "    </tr>\n",
       "    <tr>\n",
       "      <th>16</th>\n",
       "      <td>20</td>\n",
       "      <td>157</td>\n",
       "      <td>47</td>\n",
       "      <td>90</td>\n",
       "      <td>10</td>\n",
       "      <td>Female</td>\n",
       "      <td>None</td>\n",
       "      <td>2.6</td>\n",
       "      <td>No</td>\n",
       "    </tr>\n",
       "    <tr>\n",
       "      <th>17</th>\n",
       "      <td>18</td>\n",
       "      <td>165</td>\n",
       "      <td>63</td>\n",
       "      <td>90</td>\n",
       "      <td>10</td>\n",
       "      <td>Female</td>\n",
       "      <td>Full</td>\n",
       "      <td>1.3</td>\n",
       "      <td>No</td>\n",
       "    </tr>\n",
       "    <tr>\n",
       "      <th>18</th>\n",
       "      <td>19</td>\n",
       "      <td>182</td>\n",
       "      <td>84</td>\n",
       "      <td>60</td>\n",
       "      <td>10</td>\n",
       "      <td>Male</td>\n",
       "      <td>Lunch</td>\n",
       "      <td>16.1</td>\n",
       "      <td>Yes</td>\n",
       "    </tr>\n",
       "    <tr>\n",
       "      <th>19</th>\n",
       "      <td>23</td>\n",
       "      <td>180</td>\n",
       "      <td>79</td>\n",
       "      <td>90</td>\n",
       "      <td>10</td>\n",
       "      <td>Male</td>\n",
       "      <td>Full</td>\n",
       "      <td>10.1</td>\n",
       "      <td>No</td>\n",
       "    </tr>\n",
       "    <tr>\n",
       "      <th>20</th>\n",
       "      <td>29</td>\n",
       "      <td>182</td>\n",
       "      <td>76</td>\n",
       "      <td>60</td>\n",
       "      <td>10</td>\n",
       "      <td>Male</td>\n",
       "      <td>Full</td>\n",
       "      <td>2.6</td>\n",
       "      <td>No</td>\n",
       "    </tr>\n",
       "    <tr>\n",
       "      <th>21</th>\n",
       "      <td>21</td>\n",
       "      <td>187</td>\n",
       "      <td>72</td>\n",
       "      <td>30</td>\n",
       "      <td>10</td>\n",
       "      <td>Male</td>\n",
       "      <td>None</td>\n",
       "      <td>5.1</td>\n",
       "      <td>No</td>\n",
       "    </tr>\n",
       "    <tr>\n",
       "      <th>22</th>\n",
       "      <td>28</td>\n",
       "      <td>185</td>\n",
       "      <td>88</td>\n",
       "      <td>120</td>\n",
       "      <td>10</td>\n",
       "      <td>Male</td>\n",
       "      <td>Full</td>\n",
       "      <td>5.2</td>\n",
       "      <td>No</td>\n",
       "    </tr>\n",
       "    <tr>\n",
       "      <th>23</th>\n",
       "      <td>36</td>\n",
       "      <td>177</td>\n",
       "      <td>73</td>\n",
       "      <td>60</td>\n",
       "      <td>10</td>\n",
       "      <td>Male</td>\n",
       "      <td>Full</td>\n",
       "      <td>5.2</td>\n",
       "      <td>No</td>\n",
       "    </tr>\n",
       "    <tr>\n",
       "      <th>24</th>\n",
       "      <td>18</td>\n",
       "      <td>167</td>\n",
       "      <td>76</td>\n",
       "      <td>150</td>\n",
       "      <td>10</td>\n",
       "      <td>Female</td>\n",
       "      <td>Lunch</td>\n",
       "      <td>9.8</td>\n",
       "      <td>Yes</td>\n",
       "    </tr>\n",
       "    <tr>\n",
       "      <th>25</th>\n",
       "      <td>18</td>\n",
       "      <td>182</td>\n",
       "      <td>73</td>\n",
       "      <td>120</td>\n",
       "      <td>10</td>\n",
       "      <td>Male</td>\n",
       "      <td>Full</td>\n",
       "      <td>9.0</td>\n",
       "      <td>No</td>\n",
       "    </tr>\n",
       "    <tr>\n",
       "      <th>26</th>\n",
       "      <td>19</td>\n",
       "      <td>172</td>\n",
       "      <td>69</td>\n",
       "      <td>150</td>\n",
       "      <td>10</td>\n",
       "      <td>Male</td>\n",
       "      <td>Full</td>\n",
       "      <td>11.4</td>\n",
       "      <td>Yes</td>\n",
       "    </tr>\n",
       "    <tr>\n",
       "      <th>27</th>\n",
       "      <td>19</td>\n",
       "      <td>187</td>\n",
       "      <td>69</td>\n",
       "      <td>270</td>\n",
       "      <td>10</td>\n",
       "      <td>Male</td>\n",
       "      <td>Full</td>\n",
       "      <td>13.2</td>\n",
       "      <td>Yes</td>\n",
       "    </tr>\n",
       "    <tr>\n",
       "      <th>28</th>\n",
       "      <td>19</td>\n",
       "      <td>175</td>\n",
       "      <td>69</td>\n",
       "      <td>120</td>\n",
       "      <td>10</td>\n",
       "      <td>Male</td>\n",
       "      <td>Full</td>\n",
       "      <td>13.6</td>\n",
       "      <td>Yes</td>\n",
       "    </tr>\n",
       "    <tr>\n",
       "      <th>29</th>\n",
       "      <td>20</td>\n",
       "      <td>175</td>\n",
       "      <td>66</td>\n",
       "      <td>30</td>\n",
       "      <td>5</td>\n",
       "      <td>Male</td>\n",
       "      <td>None</td>\n",
       "      <td>2.6</td>\n",
       "      <td>No</td>\n",
       "    </tr>\n",
       "    <tr>\n",
       "      <th>...</th>\n",
       "      <td>...</td>\n",
       "      <td>...</td>\n",
       "      <td>...</td>\n",
       "      <td>...</td>\n",
       "      <td>...</td>\n",
       "      <td>...</td>\n",
       "      <td>...</td>\n",
       "      <td>...</td>\n",
       "      <td>...</td>\n",
       "    </tr>\n",
       "    <tr>\n",
       "      <th>46</th>\n",
       "      <td>24</td>\n",
       "      <td>182</td>\n",
       "      <td>73</td>\n",
       "      <td>240</td>\n",
       "      <td>10</td>\n",
       "      <td>Male</td>\n",
       "      <td>Full</td>\n",
       "      <td>12.0</td>\n",
       "      <td>Yes</td>\n",
       "    </tr>\n",
       "    <tr>\n",
       "      <th>47</th>\n",
       "      <td>20</td>\n",
       "      <td>175</td>\n",
       "      <td>53</td>\n",
       "      <td>435</td>\n",
       "      <td>10</td>\n",
       "      <td>Male</td>\n",
       "      <td>None</td>\n",
       "      <td>31.2</td>\n",
       "      <td>Yes</td>\n",
       "    </tr>\n",
       "    <tr>\n",
       "      <th>48</th>\n",
       "      <td>18</td>\n",
       "      <td>177</td>\n",
       "      <td>63</td>\n",
       "      <td>325</td>\n",
       "      <td>10</td>\n",
       "      <td>Male</td>\n",
       "      <td>None</td>\n",
       "      <td>20.8</td>\n",
       "      <td>Yes</td>\n",
       "    </tr>\n",
       "    <tr>\n",
       "      <th>49</th>\n",
       "      <td>18</td>\n",
       "      <td>185</td>\n",
       "      <td>69</td>\n",
       "      <td>120</td>\n",
       "      <td>10</td>\n",
       "      <td>Male</td>\n",
       "      <td>Lunch</td>\n",
       "      <td>11.0</td>\n",
       "      <td>No</td>\n",
       "    </tr>\n",
       "    <tr>\n",
       "      <th>50</th>\n",
       "      <td>22</td>\n",
       "      <td>180</td>\n",
       "      <td>88</td>\n",
       "      <td>330</td>\n",
       "      <td>40</td>\n",
       "      <td>Male</td>\n",
       "      <td>Full</td>\n",
       "      <td>16.8</td>\n",
       "      <td>No</td>\n",
       "    </tr>\n",
       "    <tr>\n",
       "      <th>51</th>\n",
       "      <td>22</td>\n",
       "      <td>177</td>\n",
       "      <td>76</td>\n",
       "      <td>330</td>\n",
       "      <td>10</td>\n",
       "      <td>Male</td>\n",
       "      <td>Full</td>\n",
       "      <td>16.8</td>\n",
       "      <td>Yes</td>\n",
       "    </tr>\n",
       "    <tr>\n",
       "      <th>52</th>\n",
       "      <td>21</td>\n",
       "      <td>180</td>\n",
       "      <td>76</td>\n",
       "      <td>240</td>\n",
       "      <td>10</td>\n",
       "      <td>Male</td>\n",
       "      <td>Full</td>\n",
       "      <td>12.4</td>\n",
       "      <td>Yes</td>\n",
       "    </tr>\n",
       "    <tr>\n",
       "      <th>53</th>\n",
       "      <td>20</td>\n",
       "      <td>177</td>\n",
       "      <td>73</td>\n",
       "      <td>30</td>\n",
       "      <td>120</td>\n",
       "      <td>Male</td>\n",
       "      <td>Full</td>\n",
       "      <td>2.4</td>\n",
       "      <td>No</td>\n",
       "    </tr>\n",
       "    <tr>\n",
       "      <th>54</th>\n",
       "      <td>22</td>\n",
       "      <td>177</td>\n",
       "      <td>63</td>\n",
       "      <td>120</td>\n",
       "      <td>10</td>\n",
       "      <td>Male</td>\n",
       "      <td>Full</td>\n",
       "      <td>7.2</td>\n",
       "      <td>Yes</td>\n",
       "    </tr>\n",
       "    <tr>\n",
       "      <th>55</th>\n",
       "      <td>21</td>\n",
       "      <td>182</td>\n",
       "      <td>79</td>\n",
       "      <td>120</td>\n",
       "      <td>10</td>\n",
       "      <td>Male</td>\n",
       "      <td>Full</td>\n",
       "      <td>7.2</td>\n",
       "      <td>No</td>\n",
       "    </tr>\n",
       "    <tr>\n",
       "      <th>56</th>\n",
       "      <td>19</td>\n",
       "      <td>177</td>\n",
       "      <td>76</td>\n",
       "      <td>120</td>\n",
       "      <td>10</td>\n",
       "      <td>Male</td>\n",
       "      <td>Full</td>\n",
       "      <td>13.0</td>\n",
       "      <td>Yes</td>\n",
       "    </tr>\n",
       "    <tr>\n",
       "      <th>57</th>\n",
       "      <td>18</td>\n",
       "      <td>167</td>\n",
       "      <td>66</td>\n",
       "      <td>300</td>\n",
       "      <td>60</td>\n",
       "      <td>Male</td>\n",
       "      <td>None</td>\n",
       "      <td>9.6</td>\n",
       "      <td>No</td>\n",
       "    </tr>\n",
       "    <tr>\n",
       "      <th>58</th>\n",
       "      <td>20</td>\n",
       "      <td>162</td>\n",
       "      <td>48</td>\n",
       "      <td>300</td>\n",
       "      <td>60</td>\n",
       "      <td>Female</td>\n",
       "      <td>Snack</td>\n",
       "      <td>7.8</td>\n",
       "      <td>Yes</td>\n",
       "    </tr>\n",
       "    <tr>\n",
       "      <th>59</th>\n",
       "      <td>23</td>\n",
       "      <td>172</td>\n",
       "      <td>66</td>\n",
       "      <td>180</td>\n",
       "      <td>10</td>\n",
       "      <td>Female</td>\n",
       "      <td>Lunch</td>\n",
       "      <td>9.5</td>\n",
       "      <td>Yes</td>\n",
       "    </tr>\n",
       "    <tr>\n",
       "      <th>60</th>\n",
       "      <td>22</td>\n",
       "      <td>180</td>\n",
       "      <td>72</td>\n",
       "      <td>120</td>\n",
       "      <td>10</td>\n",
       "      <td>Male</td>\n",
       "      <td>Lunch</td>\n",
       "      <td>9.6</td>\n",
       "      <td>Yes</td>\n",
       "    </tr>\n",
       "    <tr>\n",
       "      <th>61</th>\n",
       "      <td>22</td>\n",
       "      <td>177</td>\n",
       "      <td>82</td>\n",
       "      <td>150</td>\n",
       "      <td>10</td>\n",
       "      <td>Male</td>\n",
       "      <td>Snack</td>\n",
       "      <td>7.8</td>\n",
       "      <td>No</td>\n",
       "    </tr>\n",
       "    <tr>\n",
       "      <th>62</th>\n",
       "      <td>34</td>\n",
       "      <td>187</td>\n",
       "      <td>95</td>\n",
       "      <td>240</td>\n",
       "      <td>5</td>\n",
       "      <td>Male</td>\n",
       "      <td>Lunch</td>\n",
       "      <td>10.2</td>\n",
       "      <td>No</td>\n",
       "    </tr>\n",
       "    <tr>\n",
       "      <th>63</th>\n",
       "      <td>45</td>\n",
       "      <td>177</td>\n",
       "      <td>80</td>\n",
       "      <td>270</td>\n",
       "      <td>30</td>\n",
       "      <td>Male</td>\n",
       "      <td>Lunch</td>\n",
       "      <td>9.6</td>\n",
       "      <td>No</td>\n",
       "    </tr>\n",
       "    <tr>\n",
       "      <th>64</th>\n",
       "      <td>34</td>\n",
       "      <td>162</td>\n",
       "      <td>69</td>\n",
       "      <td>180</td>\n",
       "      <td>15</td>\n",
       "      <td>Male</td>\n",
       "      <td>Lunch</td>\n",
       "      <td>15.6</td>\n",
       "      <td>No</td>\n",
       "    </tr>\n",
       "    <tr>\n",
       "      <th>65</th>\n",
       "      <td>23</td>\n",
       "      <td>175</td>\n",
       "      <td>66</td>\n",
       "      <td>360</td>\n",
       "      <td>10</td>\n",
       "      <td>Male</td>\n",
       "      <td>Lunch</td>\n",
       "      <td>14.4</td>\n",
       "      <td>Yes</td>\n",
       "    </tr>\n",
       "    <tr>\n",
       "      <th>66</th>\n",
       "      <td>22</td>\n",
       "      <td>185</td>\n",
       "      <td>76</td>\n",
       "      <td>120</td>\n",
       "      <td>5</td>\n",
       "      <td>Male</td>\n",
       "      <td>Full</td>\n",
       "      <td>7.2</td>\n",
       "      <td>No</td>\n",
       "    </tr>\n",
       "    <tr>\n",
       "      <th>67</th>\n",
       "      <td>22</td>\n",
       "      <td>170</td>\n",
       "      <td>66</td>\n",
       "      <td>90</td>\n",
       "      <td>5</td>\n",
       "      <td>Male</td>\n",
       "      <td>None</td>\n",
       "      <td>3.0</td>\n",
       "      <td>No</td>\n",
       "    </tr>\n",
       "    <tr>\n",
       "      <th>68</th>\n",
       "      <td>23</td>\n",
       "      <td>162</td>\n",
       "      <td>57</td>\n",
       "      <td>90</td>\n",
       "      <td>10</td>\n",
       "      <td>Female</td>\n",
       "      <td>None</td>\n",
       "      <td>3.0</td>\n",
       "      <td>No</td>\n",
       "    </tr>\n",
       "    <tr>\n",
       "      <th>69</th>\n",
       "      <td>24</td>\n",
       "      <td>182</td>\n",
       "      <td>82</td>\n",
       "      <td>60</td>\n",
       "      <td>180</td>\n",
       "      <td>Male</td>\n",
       "      <td>Full</td>\n",
       "      <td>2.9</td>\n",
       "      <td>No</td>\n",
       "    </tr>\n",
       "    <tr>\n",
       "      <th>70</th>\n",
       "      <td>21</td>\n",
       "      <td>185</td>\n",
       "      <td>85</td>\n",
       "      <td>315</td>\n",
       "      <td>10</td>\n",
       "      <td>Male</td>\n",
       "      <td>Snack</td>\n",
       "      <td>19.7</td>\n",
       "      <td>Yes</td>\n",
       "    </tr>\n",
       "    <tr>\n",
       "      <th>71</th>\n",
       "      <td>22</td>\n",
       "      <td>180</td>\n",
       "      <td>72</td>\n",
       "      <td>5</td>\n",
       "      <td>10</td>\n",
       "      <td>Male</td>\n",
       "      <td>Lunch</td>\n",
       "      <td>16.6</td>\n",
       "      <td>Yes</td>\n",
       "    </tr>\n",
       "    <tr>\n",
       "      <th>72</th>\n",
       "      <td>22</td>\n",
       "      <td>177</td>\n",
       "      <td>82</td>\n",
       "      <td>300</td>\n",
       "      <td>10</td>\n",
       "      <td>Male</td>\n",
       "      <td>Snack</td>\n",
       "      <td>15.0</td>\n",
       "      <td>Yes</td>\n",
       "    </tr>\n",
       "    <tr>\n",
       "      <th>73</th>\n",
       "      <td>21</td>\n",
       "      <td>185</td>\n",
       "      <td>85</td>\n",
       "      <td>120</td>\n",
       "      <td>10</td>\n",
       "      <td>Male</td>\n",
       "      <td>Snack</td>\n",
       "      <td>7.2</td>\n",
       "      <td>No</td>\n",
       "    </tr>\n",
       "    <tr>\n",
       "      <th>74</th>\n",
       "      <td>38</td>\n",
       "      <td>187</td>\n",
       "      <td>76</td>\n",
       "      <td>60</td>\n",
       "      <td>10</td>\n",
       "      <td>Male</td>\n",
       "      <td>Snack</td>\n",
       "      <td>3.6</td>\n",
       "      <td>No</td>\n",
       "    </tr>\n",
       "    <tr>\n",
       "      <th>75</th>\n",
       "      <td>23</td>\n",
       "      <td>200</td>\n",
       "      <td>101</td>\n",
       "      <td>60</td>\n",
       "      <td>10</td>\n",
       "      <td>Male</td>\n",
       "      <td>Snack</td>\n",
       "      <td>4.8</td>\n",
       "      <td>No</td>\n",
       "    </tr>\n",
       "  </tbody>\n",
       "</table>\n",
       "<p>76 rows × 9 columns</p>\n",
       "</div>"
      ],
      "text/plain": [
       "    age_yrs  height_cm  weight_kg duration_mins elapsed_mins     sex  \\\n",
       "0        40        170         75             ?            ?    Male   \n",
       "1        26        177         76            60           10    Male   \n",
       "2        24        160         60            60           10  Female   \n",
       "3        29        160         63            90           10  Female   \n",
       "4        23        182         63           120           10    Male   \n",
       "5        19        165         51           120           10  Female   \n",
       "6        20        185         66           120           10    Male   \n",
       "7        23        185         84           150           10    Male   \n",
       "8        23        170         66            60           30    Male   \n",
       "9        18        177         82            60           10    Male   \n",
       "10       18        177         82            60           10    Male   \n",
       "11       25        177         71            60           10    Male   \n",
       "12       18        185         79           240           10    Male   \n",
       "13       18        187         82           120           10    Male   \n",
       "14       18        172         57           240           10    Male   \n",
       "15       21        177         88            90           10    Male   \n",
       "16       20        157         47            90           10  Female   \n",
       "17       18        165         63            90           10  Female   \n",
       "18       19        182         84            60           10    Male   \n",
       "19       23        180         79            90           10    Male   \n",
       "20       29        182         76            60           10    Male   \n",
       "21       21        187         72            30           10    Male   \n",
       "22       28        185         88           120           10    Male   \n",
       "23       36        177         73            60           10    Male   \n",
       "24       18        167         76           150           10  Female   \n",
       "25       18        182         73           120           10    Male   \n",
       "26       19        172         69           150           10    Male   \n",
       "27       19        187         69           270           10    Male   \n",
       "28       19        175         69           120           10    Male   \n",
       "29       20        175         66            30            5    Male   \n",
       "..      ...        ...        ...           ...          ...     ...   \n",
       "46       24        182         73           240           10    Male   \n",
       "47       20        175         53           435           10    Male   \n",
       "48       18        177         63           325           10    Male   \n",
       "49       18        185         69           120           10    Male   \n",
       "50       22        180         88           330           40    Male   \n",
       "51       22        177         76           330           10    Male   \n",
       "52       21        180         76           240           10    Male   \n",
       "53       20        177         73            30          120    Male   \n",
       "54       22        177         63           120           10    Male   \n",
       "55       21        182         79           120           10    Male   \n",
       "56       19        177         76           120           10    Male   \n",
       "57       18        167         66           300           60    Male   \n",
       "58       20        162         48           300           60  Female   \n",
       "59       23        172         66           180           10  Female   \n",
       "60       22        180         72           120           10    Male   \n",
       "61       22        177         82           150           10    Male   \n",
       "62       34        187         95           240            5    Male   \n",
       "63       45        177         80           270           30    Male   \n",
       "64       34        162         69           180           15    Male   \n",
       "65       23        175         66           360           10    Male   \n",
       "66       22        185         76           120            5    Male   \n",
       "67       22        170         66            90            5    Male   \n",
       "68       23        162         57            90           10  Female   \n",
       "69       24        182         82            60          180    Male   \n",
       "70       21        185         85           315           10    Male   \n",
       "71       22        180         72             5           10    Male   \n",
       "72       22        177         82           300           10    Male   \n",
       "73       21        185         85           120           10    Male   \n",
       "74       38        187         76            60           10    Male   \n",
       "75       23        200        101            60           10    Male   \n",
       "\n",
       "   last_meal  units over_limit  \n",
       "0      Lunch    0.0         No  \n",
       "1       Full    2.9         No  \n",
       "2       Full    2.6         No  \n",
       "3       Full    1.2         No  \n",
       "4       Full    5.2         No  \n",
       "5      Lunch    5.2        Yes  \n",
       "6      Snack    5.2         No  \n",
       "7      Lunch   15.0         No  \n",
       "8          ?    4.5         No  \n",
       "9       Full    2.6         No  \n",
       "10      Full    2.4         No  \n",
       "11     Snack   10.0         No  \n",
       "12      Full    9.6        Yes  \n",
       "13      Full    5.0         No  \n",
       "14      Full   12.6        Yes  \n",
       "15      Full    5.2         No  \n",
       "16      None    2.6         No  \n",
       "17      Full    1.3         No  \n",
       "18     Lunch   16.1        Yes  \n",
       "19      Full   10.1         No  \n",
       "20      Full    2.6         No  \n",
       "21      None    5.1         No  \n",
       "22      Full    5.2         No  \n",
       "23      Full    5.2         No  \n",
       "24     Lunch    9.8        Yes  \n",
       "25      Full    9.0         No  \n",
       "26      Full   11.4        Yes  \n",
       "27      Full   13.2        Yes  \n",
       "28      Full   13.6        Yes  \n",
       "29      None    2.6         No  \n",
       "..       ...    ...        ...  \n",
       "46      Full   12.0        Yes  \n",
       "47      None   31.2        Yes  \n",
       "48      None   20.8        Yes  \n",
       "49     Lunch   11.0         No  \n",
       "50      Full   16.8         No  \n",
       "51      Full   16.8        Yes  \n",
       "52      Full   12.4        Yes  \n",
       "53      Full    2.4         No  \n",
       "54      Full    7.2        Yes  \n",
       "55      Full    7.2         No  \n",
       "56      Full   13.0        Yes  \n",
       "57      None    9.6         No  \n",
       "58     Snack    7.8        Yes  \n",
       "59     Lunch    9.5        Yes  \n",
       "60     Lunch    9.6        Yes  \n",
       "61     Snack    7.8         No  \n",
       "62     Lunch   10.2         No  \n",
       "63     Lunch    9.6         No  \n",
       "64     Lunch   15.6         No  \n",
       "65     Lunch   14.4        Yes  \n",
       "66      Full    7.2         No  \n",
       "67      None    3.0         No  \n",
       "68      None    3.0         No  \n",
       "69      Full    2.9         No  \n",
       "70     Snack   19.7        Yes  \n",
       "71     Lunch   16.6        Yes  \n",
       "72     Snack   15.0        Yes  \n",
       "73     Snack    7.2         No  \n",
       "74     Snack    3.6         No  \n",
       "75     Snack    4.8         No  \n",
       "\n",
       "[76 rows x 9 columns]"
      ]
     },
     "execution_count": 161,
     "metadata": {},
     "output_type": "execute_result"
    }
   ],
   "source": [
    "df"
   ]
  },
  {
   "cell_type": "markdown",
   "metadata": {},
   "source": [
    "<p><font size=\"4\"><b>Data preparation</b></font></p>\n",
    "<p> Clean the dataset. Look after for dummy values. </p>\n"
   ]
  },
  {
   "cell_type": "code",
   "execution_count": 162,
   "metadata": {},
   "outputs": [],
   "source": [
    "df = (df[df['duration_mins']!='?']).copy()\n",
    "df.reset_index(drop=True, inplace=True)"
   ]
  },
  {
   "cell_type": "code",
   "execution_count": 163,
   "metadata": {},
   "outputs": [],
   "source": [
    "df = (df[df['elapsed_mins']!='?']).copy()\n",
    "df.reset_index(drop=True, inplace=True)"
   ]
  },
  {
   "cell_type": "code",
   "execution_count": 164,
   "metadata": {},
   "outputs": [
    {
     "data": {
      "text/plain": [
       "array([26, 24, 29, 23, 19, 20, 18, 25, 21, 28, 36, 39, 22, 34, 45, 38])"
      ]
     },
     "execution_count": 164,
     "metadata": {},
     "output_type": "execute_result"
    }
   ],
   "source": [
    "df['age_yrs'].unique()"
   ]
  },
  {
   "cell_type": "code",
   "execution_count": 165,
   "metadata": {},
   "outputs": [
    {
     "data": {
      "text/plain": [
       "array([177, 160, 182, 165, 185, 170, 187, 172, 157, 180, 167, 175, 162, 200])"
      ]
     },
     "execution_count": 165,
     "metadata": {},
     "output_type": "execute_result"
    }
   ],
   "source": [
    "df['height_cm'].unique()"
   ]
  },
  {
   "cell_type": "code",
   "execution_count": 166,
   "metadata": {},
   "outputs": [
    {
     "data": {
      "text/plain": [
       "array([ 76,  60,  63,  51,  66,  84,  82,  71,  79,  57,  88,  47,  72,\n",
       "        73,  69, 101,  64,  53,  75,  52,  55,  48,  95,  80,  85])"
      ]
     },
     "execution_count": 166,
     "metadata": {},
     "output_type": "execute_result"
    }
   ],
   "source": [
    "df['weight_kg'].unique()"
   ]
  },
  {
   "cell_type": "code",
   "execution_count": 167,
   "metadata": {},
   "outputs": [
    {
     "data": {
      "text/plain": [
       "array(['60', '90', '120', '150', '240', '30', '270', '180', '330', '435',\n",
       "       '325', '300', '360', '315', '5'], dtype=object)"
      ]
     },
     "execution_count": 167,
     "metadata": {},
     "output_type": "execute_result"
    }
   ],
   "source": [
    "df['duration_mins'].unique()"
   ]
  },
  {
   "cell_type": "code",
   "execution_count": 168,
   "metadata": {},
   "outputs": [],
   "source": [
    "df['duration_mins'] = df['duration_mins'].astype(int)"
   ]
  },
  {
   "cell_type": "code",
   "execution_count": 169,
   "metadata": {},
   "outputs": [
    {
     "data": {
      "text/plain": [
       "array([ 60,  90, 120, 150, 240,  30, 270, 180, 330, 435, 325, 300, 360,\n",
       "       315,   5])"
      ]
     },
     "execution_count": 169,
     "metadata": {},
     "output_type": "execute_result"
    }
   ],
   "source": [
    "df['duration_mins'].unique()"
   ]
  },
  {
   "cell_type": "code",
   "execution_count": 170,
   "metadata": {},
   "outputs": [
    {
     "data": {
      "text/plain": [
       "array(['10', '30', '5', '60', '40', '120', '15', '180'], dtype=object)"
      ]
     },
     "execution_count": 170,
     "metadata": {},
     "output_type": "execute_result"
    }
   ],
   "source": [
    "df['elapsed_mins'].unique()"
   ]
  },
  {
   "cell_type": "code",
   "execution_count": 171,
   "metadata": {},
   "outputs": [],
   "source": [
    "df['elapsed_mins'] = df['elapsed_mins'].astype(int)"
   ]
  },
  {
   "cell_type": "code",
   "execution_count": 172,
   "metadata": {},
   "outputs": [
    {
     "data": {
      "text/plain": [
       "dtype('int64')"
      ]
     },
     "execution_count": 172,
     "metadata": {},
     "output_type": "execute_result"
    }
   ],
   "source": [
    "df['elapsed_mins'].dtype\n"
   ]
  },
  {
   "cell_type": "code",
   "execution_count": 173,
   "metadata": {},
   "outputs": [
    {
     "data": {
      "text/plain": [
       "array(['Male', 'Female'], dtype=object)"
      ]
     },
     "execution_count": 173,
     "metadata": {},
     "output_type": "execute_result"
    }
   ],
   "source": [
    "df['sex'].unique()"
   ]
  },
  {
   "cell_type": "code",
   "execution_count": 174,
   "metadata": {},
   "outputs": [
    {
     "data": {
      "text/plain": [
       "array(['Full', 'Lunch', 'Snack', '?', 'None'], dtype=object)"
      ]
     },
     "execution_count": 174,
     "metadata": {},
     "output_type": "execute_result"
    }
   ],
   "source": [
    "df['last_meal'].unique()"
   ]
  },
  {
   "cell_type": "code",
   "execution_count": 175,
   "metadata": {},
   "outputs": [
    {
     "data": {
      "text/plain": [
       "1"
      ]
     },
     "execution_count": 175,
     "metadata": {},
     "output_type": "execute_result"
    }
   ],
   "source": [
    "(df['last_meal']=='?').sum()"
   ]
  },
  {
   "cell_type": "code",
   "execution_count": 176,
   "metadata": {},
   "outputs": [
    {
     "data": {
      "text/plain": [
       "11"
      ]
     },
     "execution_count": 176,
     "metadata": {},
     "output_type": "execute_result"
    }
   ],
   "source": [
    "(df['last_meal']=='None').sum()\n"
   ]
  },
  {
   "cell_type": "code",
   "execution_count": 177,
   "metadata": {},
   "outputs": [
    {
     "data": {
      "text/plain": [
       "(74, 9)"
      ]
     },
     "execution_count": 177,
     "metadata": {},
     "output_type": "execute_result"
    }
   ],
   "source": [
    "df.shape"
   ]
  },
  {
   "cell_type": "code",
   "execution_count": 178,
   "metadata": {},
   "outputs": [],
   "source": [
    "df = (df[df['last_meal']!='?']).copy()\n",
    "df.reset_index(drop=True, inplace=True)"
   ]
  },
  {
   "cell_type": "code",
   "execution_count": 179,
   "metadata": {},
   "outputs": [
    {
     "data": {
      "text/plain": [
       "(73, 9)"
      ]
     },
     "execution_count": 179,
     "metadata": {},
     "output_type": "execute_result"
    }
   ],
   "source": [
    "df.shape"
   ]
  },
  {
   "cell_type": "code",
   "execution_count": 180,
   "metadata": {},
   "outputs": [
    {
     "data": {
      "text/plain": [
       "array([  2.9,   2.6,   1.2,   5.2,  15. ,   2.4,  10. ,   9.6,   5. ,\n",
       "        12.6,   1.3,  16.1,  10.1,   5.1,   9.8,   9. ,  11.4,  13.2,\n",
       "        13.6,   4.6,  16.9,  10.4,  15.8,  10.2,   9.1,   5.9,  12. ,\n",
       "        31.2,  20.8,  11. ,  16.8,  12.4,   7.2,  13. ,   7.8,   9.5,\n",
       "        15.6,  14.4,   3. ,  19.7,  16.6,   3.6,   4.8])"
      ]
     },
     "execution_count": 180,
     "metadata": {},
     "output_type": "execute_result"
    }
   ],
   "source": [
    "df['units'].unique()"
   ]
  },
  {
   "cell_type": "markdown",
   "metadata": {},
   "source": [
    "<p>Dataset after the cleaning process</p>"
   ]
  },
  {
   "cell_type": "code",
   "execution_count": 181,
   "metadata": {},
   "outputs": [],
   "source": [
    "#Professor's method\n",
    "#for col in ['duration_mins','elapsed_mins','sex','last_meal','over_limit']:\n",
    "#   print(col, (df[col] == '?').sum())\n"
   ]
  },
  {
   "cell_type": "markdown",
   "metadata": {},
   "source": [
    "<p><b>Imputting(Imputter class) the  the mean or the mode where are missing values is a good idea instead of delete them, but we should be careful, it's not always the case(here is not the case to impute values for the duration_mins and elapsed_mins, but for the last_meal we can).</b></p>"
   ]
  },
  {
   "cell_type": "code",
   "execution_count": 182,
   "metadata": {},
   "outputs": [],
   "source": [
    "#randomize the data(here is not really the case because the data seem to be random)\n",
    "df = df.take(np.random.permutation(len(df)))\n",
    "df.reset_index(inplace=True, drop=True)"
   ]
  },
  {
   "cell_type": "markdown",
   "metadata": {},
   "source": [
    "<p><font size=\"4\"><b>Build the classifier</b></font></p>"
   ]
  },
  {
   "cell_type": "code",
   "execution_count": 183,
   "metadata": {},
   "outputs": [],
   "source": [
    "\n",
    "y = df[\"over_limit\"].values\n",
    "\n",
    "encoder = LabelEncoder()\n",
    "\n",
    "y_encoded = encoder.fit_transform(y)"
   ]
  },
  {
   "cell_type": "code",
   "execution_count": 184,
   "metadata": {},
   "outputs": [],
   "source": [
    "#The features we want to select\n",
    "numeric_features = [\"age_yrs\",\"height_cm\",\"weight_kg\",\"duration_mins\",\"elapsed_mins\",\"units\"]\n",
    "nominal_features = [\"sex\", \"last_meal\"]\n",
    "\n",
    "numeric_pipeline = Pipeline([\n",
    "        (\"selector\", DataFrameSelector(numeric_features)),\n",
    "        (\"scaler\", StandardScaler())\n",
    "    ])\n",
    "\n",
    "nominal_pipeline = Pipeline([\n",
    "        (\"selector\", DataFrameSelector(nominal_features)), \n",
    "        (\"binarizer\", FeatureBinarizer([df[feature].unique() for feature in nominal_features]))])\n",
    "\n",
    "#Create two different classifiers\n",
    "\n",
    "ovr_pipeline = Pipeline([(\"union\", FeatureUnion([(\"numeric_pipeline\", numeric_pipeline), \n",
    "                                             (\"nominal_pipeline\", nominal_pipeline)])),\n",
    "                         (\"estimator\", LogisticRegression())])\n",
    "\n",
    "dummy_pipeline = Pipeline([(\"union\", FeatureUnion([(\"numeric_pipeline\", numeric_pipeline), \n",
    "                                             (\"nominal_pipeline\", nominal_pipeline)])),\n",
    "                         (\"estimator\", DummyClassifier(strategy = \"most_frequent\"))])"
   ]
  },
  {
   "cell_type": "code",
   "execution_count": 213,
   "metadata": {},
   "outputs": [
    {
     "name": "stderr",
     "output_type": "stream",
     "text": [
      "/usr/local/lib/python3.5/site-packages/sklearn/model_selection/_split.py:1630: FutureWarning: From version 0.21, test_size will always complement train_size unless both are specified.\n",
      "  FutureWarning)\n"
     ]
    },
    {
     "data": {
      "text/plain": [
       "0.71875"
      ]
     },
     "execution_count": 213,
     "metadata": {},
     "output_type": "execute_result"
    }
   ],
   "source": [
    "ss = ShuffleSplit(n_splits=4, train_size=0.8)\n",
    "np.mean(cross_val_score(ovr_pipeline, df, y_encoded, scoring=\"accuracy\", cv=ss))"
   ]
  },
  {
   "cell_type": "code",
   "execution_count": 212,
   "metadata": {},
   "outputs": [
    {
     "data": {
      "text/plain": [
       "0.76777777777777778"
      ]
     },
     "execution_count": 212,
     "metadata": {},
     "output_type": "execute_result"
    }
   ],
   "source": [
    "#Accuracy of the first classifier\n",
    "#Pay attention to cv variable, we only have 76 examples and we should have at least 30 in a fold.\n",
    "np.mean(cross_val_score(ovr_pipeline, df, y_encoded, scoring=\"accuracy\", cv=3))"
   ]
  },
  {
   "cell_type": "code",
   "execution_count": 186,
   "metadata": {},
   "outputs": [
    {
     "data": {
      "text/plain": [
       "0.58888888888888891"
      ]
     },
     "execution_count": 186,
     "metadata": {},
     "output_type": "execute_result"
    }
   ],
   "source": [
    "#Accuracy of the second classifier\n",
    "np.mean(cross_val_score(dummy_pipeline, df, y_encoded, scoring=\"accuracy\", cv=3))"
   ]
  },
  {
   "cell_type": "code",
   "execution_count": 187,
   "metadata": {},
   "outputs": [
    {
     "data": {
      "text/plain": [
       "array([[34,  9],\n",
       "       [ 8, 22]])"
      ]
     },
     "execution_count": 187,
     "metadata": {},
     "output_type": "execute_result"
    }
   ],
   "source": [
    "#Confusion matrix\n",
    "y_predicted = cross_val_predict(pipeline, df, y, cv=3) \n",
    "confusion_matrix(y, y_predicted)"
   ]
  },
  {
   "cell_type": "markdown",
   "metadata": {},
   "source": [
    "<p>Duplicate values if confusion matrix has predict wrong a lot.</p>"
   ]
  },
  {
   "cell_type": "code",
   "execution_count": 188,
   "metadata": {},
   "outputs": [
    {
     "data": {
      "image/png": "[encoded data removed]",
      "text/plain": [
       "<matplotlib.figure.Figure at 0x7f5eb9d6dc18>"
      ]
     },
     "metadata": {},
     "output_type": "display_data"
    }
   ],
   "source": [
    "\n",
    "units = df['units']\n",
    "age = df['age_yrs']\n",
    "over_limit = df[\"over_limit\"]\n",
    "\n",
    "fig = plt.figure(figsize=(10,5))\n",
    "plt.title(\"Units against age\")\n",
    "plt.scatter(units[over_limit==\"Yes\"], age[over_limit==\"Yes\"], color = \"red\")\n",
    "plt.scatter(units[over_limit==\"No\"], age[over_limit==\"No\"], color = \"green\")\n",
    "plt.xlabel(\"Units\")\n",
    "plt.xlim(0, 32)\n",
    "plt.ylabel(\"Age\")\n",
    "plt.ylim(0, 50)\n",
    "plt.show()"
   ]
  },
  {
   "cell_type": "code",
   "execution_count": null,
   "metadata": {},
   "outputs": [],
   "source": []
  }
 ],
 "metadata": {
  "kernelspec": {
   "display_name": "Python 3",
   "language": "python",
   "name": "python3"
  },
  "language_info": {
   "codemirror_mode": {
    "name": "ipython",
    "version": 3
   },
   "file_extension": ".py",
   "mimetype": "text/x-python",
   "name": "python",
   "nbconvert_exporter": "python",
   "pygments_lexer": "ipython3",
   "version": "3.5.2"
  }
 },
 "nbformat": 4,
 "nbformat_minor": 2
}
