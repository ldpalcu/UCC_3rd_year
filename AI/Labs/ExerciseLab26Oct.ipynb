{
 "cells": [
  {
   "cell_type": "markdown",
   "metadata": {},
   "source": [
    "<h1>EXERCISE</h1>"
   ]
  },
  {
   "cell_type": "markdown",
   "metadata": {},
   "source": [
    "<p>Answer the following question:Are Thamves Valley Police racist?</p>\n",
    "<p>Use pandas library for this exercise.</p>\n"
   ]
  },
  {
   "cell_type": "code",
   "execution_count": 79,
   "metadata": {},
   "outputs": [],
   "source": [
    "%reload_ext autoreload\n",
    "%autoreload 2\n",
    "%matplotlib inline"
   ]
  },
  {
   "cell_type": "code",
   "execution_count": 100,
   "metadata": {},
   "outputs": [],
   "source": [
    "import pandas as pd\n",
    "import numpy as np\n",
    "import matplotlib.pyplot as plt\n",
    "\n",
    "from pandas.tools.plotting import scatter_matrix"
   ]
  },
  {
   "cell_type": "code",
   "execution_count": 81,
   "metadata": {},
   "outputs": [],
   "source": [
    "#Read a dataset csv file.\n",
    "df = pd.read_csv('datasets/dataset_stop_and_searchB.csv')"
   ]
  },
  {
   "cell_type": "code",
   "execution_count": 82,
   "metadata": {},
   "outputs": [
    {
     "data": {
      "text/html": [
       "<div>\n",
       "<style>\n",
       "    .dataframe thead tr:only-child th {\n",
       "        text-align: right;\n",
       "    }\n",
       "\n",
       "    .dataframe thead th {\n",
       "        text-align: left;\n",
       "    }\n",
       "\n",
       "    .dataframe tbody tr th {\n",
       "        vertical-align: top;\n",
       "    }\n",
       "</style>\n",
       "<table border=\"1\" class=\"dataframe\">\n",
       "  <thead>\n",
       "    <tr style=\"text-align: right;\">\n",
       "      <th></th>\n",
       "      <th>Gender</th>\n",
       "      <th>Age</th>\n",
       "      <th>Suspect-ethnicity</th>\n",
       "      <th>Officer-ethnicity</th>\n",
       "      <th>Object of search</th>\n",
       "      <th>Outcome</th>\n",
       "    </tr>\n",
       "  </thead>\n",
       "  <tbody>\n",
       "    <tr>\n",
       "      <th>0</th>\n",
       "      <td>Male</td>\n",
       "      <td>18-24</td>\n",
       "      <td>White - White British (W1)</td>\n",
       "      <td>White</td>\n",
       "      <td>Controlled drugs</td>\n",
       "      <td>Article found - Detailed outcome unavailable</td>\n",
       "    </tr>\n",
       "    <tr>\n",
       "      <th>1</th>\n",
       "      <td>Male</td>\n",
       "      <td>10-17</td>\n",
       "      <td>White - White British (W1)</td>\n",
       "      <td>White</td>\n",
       "      <td>Controlled drugs</td>\n",
       "      <td>Article found - Detailed outcome unavailable</td>\n",
       "    </tr>\n",
       "    <tr>\n",
       "      <th>2</th>\n",
       "      <td>Male</td>\n",
       "      <td>10-17</td>\n",
       "      <td>White - White British (W1)</td>\n",
       "      <td>White</td>\n",
       "      <td>Controlled drugs</td>\n",
       "      <td>Article found - Detailed outcome unavailable</td>\n",
       "    </tr>\n",
       "    <tr>\n",
       "      <th>3</th>\n",
       "      <td>Male</td>\n",
       "      <td>25-34</td>\n",
       "      <td>Black or Black British - Caribbean (B1)</td>\n",
       "      <td>Black</td>\n",
       "      <td>Offensive weapons</td>\n",
       "      <td>Nothing found - no further action</td>\n",
       "    </tr>\n",
       "    <tr>\n",
       "      <th>4</th>\n",
       "      <td>Female</td>\n",
       "      <td>over 34</td>\n",
       "      <td>White - White British (W1)</td>\n",
       "      <td>White</td>\n",
       "      <td>Controlled drugs</td>\n",
       "      <td>Nothing found - no further action</td>\n",
       "    </tr>\n",
       "    <tr>\n",
       "      <th>5</th>\n",
       "      <td>Male</td>\n",
       "      <td>25-34</td>\n",
       "      <td>White - White British (W1)</td>\n",
       "      <td>White</td>\n",
       "      <td>Controlled drugs</td>\n",
       "      <td>Nothing found - no further action</td>\n",
       "    </tr>\n",
       "    <tr>\n",
       "      <th>6</th>\n",
       "      <td>Male</td>\n",
       "      <td>10-17</td>\n",
       "      <td>Not Stated (NS)</td>\n",
       "      <td>Asian</td>\n",
       "      <td>Controlled drugs</td>\n",
       "      <td>Nothing found - no further action</td>\n",
       "    </tr>\n",
       "    <tr>\n",
       "      <th>7</th>\n",
       "      <td>Male</td>\n",
       "      <td>18-24</td>\n",
       "      <td>Asian or Asian British - Indian (A1)</td>\n",
       "      <td>Asian</td>\n",
       "      <td>Controlled drugs</td>\n",
       "      <td>Nothing found - no further action</td>\n",
       "    </tr>\n",
       "    <tr>\n",
       "      <th>8</th>\n",
       "      <td>Male</td>\n",
       "      <td>over 34</td>\n",
       "      <td>White - Any other White ethnic background (W9)</td>\n",
       "      <td>White</td>\n",
       "      <td>Controlled drugs</td>\n",
       "      <td>Suspect arrested</td>\n",
       "    </tr>\n",
       "    <tr>\n",
       "      <th>9</th>\n",
       "      <td>Female</td>\n",
       "      <td>NaN</td>\n",
       "      <td>NaN</td>\n",
       "      <td>White</td>\n",
       "      <td>Offensive weapons</td>\n",
       "      <td>Nothing found - no further action</td>\n",
       "    </tr>\n",
       "    <tr>\n",
       "      <th>10</th>\n",
       "      <td>Male</td>\n",
       "      <td>18-24</td>\n",
       "      <td>Black or Black British - African (B2)</td>\n",
       "      <td>Black</td>\n",
       "      <td>Controlled drugs</td>\n",
       "      <td>Nothing found - no further action</td>\n",
       "    </tr>\n",
       "    <tr>\n",
       "      <th>11</th>\n",
       "      <td>Male</td>\n",
       "      <td>10-17</td>\n",
       "      <td>NaN</td>\n",
       "      <td>Black</td>\n",
       "      <td>Controlled drugs</td>\n",
       "      <td>Nothing found - no further action</td>\n",
       "    </tr>\n",
       "    <tr>\n",
       "      <th>12</th>\n",
       "      <td>Male</td>\n",
       "      <td>18-24</td>\n",
       "      <td>White - White British (W1)</td>\n",
       "      <td>Black</td>\n",
       "      <td>Controlled drugs</td>\n",
       "      <td>Nothing found - no further action</td>\n",
       "    </tr>\n",
       "    <tr>\n",
       "      <th>13</th>\n",
       "      <td>Male</td>\n",
       "      <td>18-24</td>\n",
       "      <td>Mixed - White and Asian (M3)</td>\n",
       "      <td>White</td>\n",
       "      <td>Controlled drugs</td>\n",
       "      <td>Offender cautioned</td>\n",
       "    </tr>\n",
       "    <tr>\n",
       "      <th>14</th>\n",
       "      <td>Male</td>\n",
       "      <td>18-24</td>\n",
       "      <td>White - White British (W1)</td>\n",
       "      <td>White</td>\n",
       "      <td>Controlled drugs</td>\n",
       "      <td>Suspect summonsed to court</td>\n",
       "    </tr>\n",
       "    <tr>\n",
       "      <th>15</th>\n",
       "      <td>Male</td>\n",
       "      <td>10-17</td>\n",
       "      <td>NaN</td>\n",
       "      <td>Black</td>\n",
       "      <td>Controlled drugs</td>\n",
       "      <td>Nothing found - no further action</td>\n",
       "    </tr>\n",
       "    <tr>\n",
       "      <th>16</th>\n",
       "      <td>Male</td>\n",
       "      <td>over 34</td>\n",
       "      <td>White - White British (W1)</td>\n",
       "      <td>White</td>\n",
       "      <td>Controlled drugs</td>\n",
       "      <td>Suspect arrested</td>\n",
       "    </tr>\n",
       "    <tr>\n",
       "      <th>17</th>\n",
       "      <td>Male</td>\n",
       "      <td>10-17</td>\n",
       "      <td>Mixed - Any other Mixed ethnic background (M9)</td>\n",
       "      <td>Black</td>\n",
       "      <td>Controlled drugs</td>\n",
       "      <td>Nothing found - no further action</td>\n",
       "    </tr>\n",
       "    <tr>\n",
       "      <th>18</th>\n",
       "      <td>Male</td>\n",
       "      <td>25-34</td>\n",
       "      <td>Not Stated (NS)</td>\n",
       "      <td>Asian</td>\n",
       "      <td>Controlled drugs</td>\n",
       "      <td>Nothing found - no further action</td>\n",
       "    </tr>\n",
       "    <tr>\n",
       "      <th>19</th>\n",
       "      <td>Male</td>\n",
       "      <td>25-34</td>\n",
       "      <td>White - White British (W1)</td>\n",
       "      <td>White</td>\n",
       "      <td>Controlled drugs</td>\n",
       "      <td>Nothing found - no further action</td>\n",
       "    </tr>\n",
       "    <tr>\n",
       "      <th>20</th>\n",
       "      <td>Female</td>\n",
       "      <td>18-24</td>\n",
       "      <td>White - White British (W1)</td>\n",
       "      <td>White</td>\n",
       "      <td>Controlled drugs</td>\n",
       "      <td>Nothing found - no further action</td>\n",
       "    </tr>\n",
       "    <tr>\n",
       "      <th>21</th>\n",
       "      <td>Male</td>\n",
       "      <td>10-17</td>\n",
       "      <td>White - White British (W1)</td>\n",
       "      <td>White</td>\n",
       "      <td>Controlled drugs</td>\n",
       "      <td>Nothing found - no further action</td>\n",
       "    </tr>\n",
       "    <tr>\n",
       "      <th>22</th>\n",
       "      <td>Male</td>\n",
       "      <td>18-24</td>\n",
       "      <td>Asian or Asian British - Pakistani (A2)</td>\n",
       "      <td>Asian</td>\n",
       "      <td>Controlled drugs</td>\n",
       "      <td>Nothing found - no further action</td>\n",
       "    </tr>\n",
       "    <tr>\n",
       "      <th>23</th>\n",
       "      <td>Male</td>\n",
       "      <td>over 34</td>\n",
       "      <td>White - White British (W1)</td>\n",
       "      <td>White</td>\n",
       "      <td>Controlled drugs</td>\n",
       "      <td>Suspect arrested</td>\n",
       "    </tr>\n",
       "    <tr>\n",
       "      <th>24</th>\n",
       "      <td>Male</td>\n",
       "      <td>25-34</td>\n",
       "      <td>White - White British (W1)</td>\n",
       "      <td>White</td>\n",
       "      <td>Stolen goods</td>\n",
       "      <td>Nothing found - no further action</td>\n",
       "    </tr>\n",
       "    <tr>\n",
       "      <th>25</th>\n",
       "      <td>Male</td>\n",
       "      <td>25-34</td>\n",
       "      <td>Mixed - White and Black Caribbean (M1)</td>\n",
       "      <td>Black</td>\n",
       "      <td>Controlled drugs</td>\n",
       "      <td>Nothing found - no further action</td>\n",
       "    </tr>\n",
       "    <tr>\n",
       "      <th>26</th>\n",
       "      <td>Female</td>\n",
       "      <td>10-17</td>\n",
       "      <td>Mixed - White and Black Caribbean (M1)</td>\n",
       "      <td>Black</td>\n",
       "      <td>Controlled drugs</td>\n",
       "      <td>Article found - Detailed outcome unavailable</td>\n",
       "    </tr>\n",
       "    <tr>\n",
       "      <th>27</th>\n",
       "      <td>Male</td>\n",
       "      <td>18-24</td>\n",
       "      <td>White - Any other White ethnic background (W9)</td>\n",
       "      <td>White</td>\n",
       "      <td>Controlled drugs</td>\n",
       "      <td>Nothing found - no further action</td>\n",
       "    </tr>\n",
       "    <tr>\n",
       "      <th>28</th>\n",
       "      <td>Male</td>\n",
       "      <td>over 34</td>\n",
       "      <td>NaN</td>\n",
       "      <td>White</td>\n",
       "      <td>Article for use in theft</td>\n",
       "      <td>Nothing found - no further action</td>\n",
       "    </tr>\n",
       "    <tr>\n",
       "      <th>29</th>\n",
       "      <td>Male</td>\n",
       "      <td>18-24</td>\n",
       "      <td>Black or Black British - African (B2)</td>\n",
       "      <td>Black</td>\n",
       "      <td>Controlled drugs</td>\n",
       "      <td>Nothing found - no further action</td>\n",
       "    </tr>\n",
       "    <tr>\n",
       "      <th>...</th>\n",
       "      <td>...</td>\n",
       "      <td>...</td>\n",
       "      <td>...</td>\n",
       "      <td>...</td>\n",
       "      <td>...</td>\n",
       "      <td>...</td>\n",
       "    </tr>\n",
       "    <tr>\n",
       "      <th>10324</th>\n",
       "      <td>Male</td>\n",
       "      <td>18-24</td>\n",
       "      <td>Not Stated (NS)</td>\n",
       "      <td>White</td>\n",
       "      <td>Stolen goods</td>\n",
       "      <td>Suspect arrested</td>\n",
       "    </tr>\n",
       "    <tr>\n",
       "      <th>10325</th>\n",
       "      <td>Male</td>\n",
       "      <td>18-24</td>\n",
       "      <td>Not Stated (NS)</td>\n",
       "      <td>White</td>\n",
       "      <td>Article for use in theft</td>\n",
       "      <td>Suspect arrested</td>\n",
       "    </tr>\n",
       "    <tr>\n",
       "      <th>10326</th>\n",
       "      <td>Male</td>\n",
       "      <td>10-17</td>\n",
       "      <td>Mixed - White and Black Caribbean (M1)</td>\n",
       "      <td>Black</td>\n",
       "      <td>Controlled drugs</td>\n",
       "      <td>Nothing found - no further action</td>\n",
       "    </tr>\n",
       "    <tr>\n",
       "      <th>10327</th>\n",
       "      <td>Male</td>\n",
       "      <td>18-24</td>\n",
       "      <td>Black or Black British - African (B2)</td>\n",
       "      <td>Black</td>\n",
       "      <td>Controlled drugs</td>\n",
       "      <td>Nothing found - no further action</td>\n",
       "    </tr>\n",
       "    <tr>\n",
       "      <th>10328</th>\n",
       "      <td>Male</td>\n",
       "      <td>10-17</td>\n",
       "      <td>White - White British (W1)</td>\n",
       "      <td>White</td>\n",
       "      <td>Controlled drugs</td>\n",
       "      <td>Nothing found - no further action</td>\n",
       "    </tr>\n",
       "    <tr>\n",
       "      <th>10329</th>\n",
       "      <td>Female</td>\n",
       "      <td>over 34</td>\n",
       "      <td>White - White British (W1)</td>\n",
       "      <td>White</td>\n",
       "      <td>Controlled drugs</td>\n",
       "      <td>Nothing found - no further action</td>\n",
       "    </tr>\n",
       "    <tr>\n",
       "      <th>10330</th>\n",
       "      <td>Female</td>\n",
       "      <td>25-34</td>\n",
       "      <td>White - White British (W1)</td>\n",
       "      <td>White</td>\n",
       "      <td>Controlled drugs</td>\n",
       "      <td>Nothing found - no further action</td>\n",
       "    </tr>\n",
       "    <tr>\n",
       "      <th>10331</th>\n",
       "      <td>Male</td>\n",
       "      <td>25-34</td>\n",
       "      <td>White - White British (W1)</td>\n",
       "      <td>White</td>\n",
       "      <td>Controlled drugs</td>\n",
       "      <td>Nothing found - no further action</td>\n",
       "    </tr>\n",
       "    <tr>\n",
       "      <th>10332</th>\n",
       "      <td>Male</td>\n",
       "      <td>25-34</td>\n",
       "      <td>Black or Black British - Any other Black ethni...</td>\n",
       "      <td>Black</td>\n",
       "      <td>Controlled drugs</td>\n",
       "      <td>Nothing found - no further action</td>\n",
       "    </tr>\n",
       "    <tr>\n",
       "      <th>10333</th>\n",
       "      <td>Male</td>\n",
       "      <td>25-34</td>\n",
       "      <td>Black or Black British - African (B2)</td>\n",
       "      <td>Black</td>\n",
       "      <td>Controlled drugs</td>\n",
       "      <td>Nothing found - no further action</td>\n",
       "    </tr>\n",
       "    <tr>\n",
       "      <th>10334</th>\n",
       "      <td>Male</td>\n",
       "      <td>over 34</td>\n",
       "      <td>Mixed - Any other Mixed ethnic background (M9)</td>\n",
       "      <td>Black</td>\n",
       "      <td>Controlled drugs</td>\n",
       "      <td>Nothing found - no further action</td>\n",
       "    </tr>\n",
       "    <tr>\n",
       "      <th>10335</th>\n",
       "      <td>Male</td>\n",
       "      <td>25-34</td>\n",
       "      <td>Asian or Asian British - Pakistani (A2)</td>\n",
       "      <td>Asian</td>\n",
       "      <td>Controlled drugs</td>\n",
       "      <td>Suspect arrested</td>\n",
       "    </tr>\n",
       "    <tr>\n",
       "      <th>10336</th>\n",
       "      <td>Male</td>\n",
       "      <td>25-34</td>\n",
       "      <td>Asian or Asian British - Indian (A1)</td>\n",
       "      <td>Asian</td>\n",
       "      <td>Article for use in theft</td>\n",
       "      <td>Nothing found - no further action</td>\n",
       "    </tr>\n",
       "    <tr>\n",
       "      <th>10337</th>\n",
       "      <td>Male</td>\n",
       "      <td>18-24</td>\n",
       "      <td>White - White British (W1)</td>\n",
       "      <td>White</td>\n",
       "      <td>Stolen goods</td>\n",
       "      <td>Suspect arrested</td>\n",
       "    </tr>\n",
       "    <tr>\n",
       "      <th>10338</th>\n",
       "      <td>Male</td>\n",
       "      <td>18-24</td>\n",
       "      <td>White - White British (W1)</td>\n",
       "      <td>White</td>\n",
       "      <td>Stolen goods</td>\n",
       "      <td>Suspect arrested</td>\n",
       "    </tr>\n",
       "    <tr>\n",
       "      <th>10339</th>\n",
       "      <td>Male</td>\n",
       "      <td>18-24</td>\n",
       "      <td>White - White British (W1)</td>\n",
       "      <td>White</td>\n",
       "      <td>Stolen goods</td>\n",
       "      <td>Suspect arrested</td>\n",
       "    </tr>\n",
       "    <tr>\n",
       "      <th>10340</th>\n",
       "      <td>Male</td>\n",
       "      <td>25-34</td>\n",
       "      <td>Asian or Asian British - Indian (A1)</td>\n",
       "      <td>Asian</td>\n",
       "      <td>Controlled drugs</td>\n",
       "      <td>Nothing found - no further action</td>\n",
       "    </tr>\n",
       "    <tr>\n",
       "      <th>10341</th>\n",
       "      <td>Male</td>\n",
       "      <td>over 34</td>\n",
       "      <td>Not Stated (NS)</td>\n",
       "      <td>Black</td>\n",
       "      <td>Stolen goods</td>\n",
       "      <td>Nothing found - no further action</td>\n",
       "    </tr>\n",
       "    <tr>\n",
       "      <th>10342</th>\n",
       "      <td>Male</td>\n",
       "      <td>over 34</td>\n",
       "      <td>Not Stated (NS)</td>\n",
       "      <td>Black</td>\n",
       "      <td>Stolen goods</td>\n",
       "      <td>Nothing found - no further action</td>\n",
       "    </tr>\n",
       "    <tr>\n",
       "      <th>10343</th>\n",
       "      <td>Male</td>\n",
       "      <td>18-24</td>\n",
       "      <td>Not Stated (NS)</td>\n",
       "      <td>White</td>\n",
       "      <td>Stolen goods</td>\n",
       "      <td>Suspect arrested</td>\n",
       "    </tr>\n",
       "    <tr>\n",
       "      <th>10344</th>\n",
       "      <td>Male</td>\n",
       "      <td>10-17</td>\n",
       "      <td>White - White British (W1)</td>\n",
       "      <td>White</td>\n",
       "      <td>Offensive weapons</td>\n",
       "      <td>Suspect arrested</td>\n",
       "    </tr>\n",
       "    <tr>\n",
       "      <th>10345</th>\n",
       "      <td>Male</td>\n",
       "      <td>over 34</td>\n",
       "      <td>Not Stated (NS)</td>\n",
       "      <td>Black</td>\n",
       "      <td>Stolen goods</td>\n",
       "      <td>Nothing found - no further action</td>\n",
       "    </tr>\n",
       "    <tr>\n",
       "      <th>10346</th>\n",
       "      <td>Male</td>\n",
       "      <td>18-24</td>\n",
       "      <td>White - White British (W1)</td>\n",
       "      <td>White</td>\n",
       "      <td>Controlled drugs</td>\n",
       "      <td>Nothing found - no further action</td>\n",
       "    </tr>\n",
       "    <tr>\n",
       "      <th>10347</th>\n",
       "      <td>Male</td>\n",
       "      <td>18-24</td>\n",
       "      <td>White - White British (W1)</td>\n",
       "      <td>White</td>\n",
       "      <td>Controlled drugs</td>\n",
       "      <td>Article found - Detailed outcome unavailable</td>\n",
       "    </tr>\n",
       "    <tr>\n",
       "      <th>10348</th>\n",
       "      <td>Male</td>\n",
       "      <td>10-17</td>\n",
       "      <td>White - White British (W1)</td>\n",
       "      <td>White</td>\n",
       "      <td>Firearms</td>\n",
       "      <td>Offender given drugs possession warning</td>\n",
       "    </tr>\n",
       "    <tr>\n",
       "      <th>10349</th>\n",
       "      <td>Male</td>\n",
       "      <td>18-24</td>\n",
       "      <td>Not Stated (NS)</td>\n",
       "      <td>White</td>\n",
       "      <td>Firearms</td>\n",
       "      <td>Nothing found - no further action</td>\n",
       "    </tr>\n",
       "    <tr>\n",
       "      <th>10350</th>\n",
       "      <td>Male</td>\n",
       "      <td>10-17</td>\n",
       "      <td>Not Stated (NS)</td>\n",
       "      <td>Black</td>\n",
       "      <td>NaN</td>\n",
       "      <td>Offender given drugs possession warning</td>\n",
       "    </tr>\n",
       "    <tr>\n",
       "      <th>10351</th>\n",
       "      <td>Male</td>\n",
       "      <td>10-17</td>\n",
       "      <td>Not Stated (NS)</td>\n",
       "      <td>White</td>\n",
       "      <td>Firearms</td>\n",
       "      <td>Article found - Detailed outcome unavailable</td>\n",
       "    </tr>\n",
       "    <tr>\n",
       "      <th>10352</th>\n",
       "      <td>Male</td>\n",
       "      <td>25-34</td>\n",
       "      <td>Asian or Asian British - Pakistani (A2)</td>\n",
       "      <td>Asian</td>\n",
       "      <td>Controlled drugs</td>\n",
       "      <td>Suspect summonsed to court</td>\n",
       "    </tr>\n",
       "    <tr>\n",
       "      <th>10353</th>\n",
       "      <td>Female</td>\n",
       "      <td>18-24</td>\n",
       "      <td>White - White British (W1)</td>\n",
       "      <td>White</td>\n",
       "      <td>Offensive weapons</td>\n",
       "      <td>Nothing found - no further action</td>\n",
       "    </tr>\n",
       "  </tbody>\n",
       "</table>\n",
       "<p>10354 rows × 6 columns</p>\n",
       "</div>"
      ],
      "text/plain": [
       "       Gender      Age                                  Suspect-ethnicity  \\\n",
       "0        Male    18-24                         White - White British (W1)   \n",
       "1        Male    10-17                         White - White British (W1)   \n",
       "2        Male    10-17                         White - White British (W1)   \n",
       "3        Male    25-34            Black or Black British - Caribbean (B1)   \n",
       "4      Female  over 34                         White - White British (W1)   \n",
       "5        Male    25-34                         White - White British (W1)   \n",
       "6        Male    10-17                                    Not Stated (NS)   \n",
       "7        Male    18-24               Asian or Asian British - Indian (A1)   \n",
       "8        Male  over 34     White - Any other White ethnic background (W9)   \n",
       "9      Female      NaN                                                NaN   \n",
       "10       Male    18-24              Black or Black British - African (B2)   \n",
       "11       Male    10-17                                                NaN   \n",
       "12       Male    18-24                         White - White British (W1)   \n",
       "13       Male    18-24                       Mixed - White and Asian (M3)   \n",
       "14       Male    18-24                         White - White British (W1)   \n",
       "15       Male    10-17                                                NaN   \n",
       "16       Male  over 34                         White - White British (W1)   \n",
       "17       Male    10-17     Mixed - Any other Mixed ethnic background (M9)   \n",
       "18       Male    25-34                                    Not Stated (NS)   \n",
       "19       Male    25-34                         White - White British (W1)   \n",
       "20     Female    18-24                         White - White British (W1)   \n",
       "21       Male    10-17                         White - White British (W1)   \n",
       "22       Male    18-24            Asian or Asian British - Pakistani (A2)   \n",
       "23       Male  over 34                         White - White British (W1)   \n",
       "24       Male    25-34                         White - White British (W1)   \n",
       "25       Male    25-34             Mixed - White and Black Caribbean (M1)   \n",
       "26     Female    10-17             Mixed - White and Black Caribbean (M1)   \n",
       "27       Male    18-24     White - Any other White ethnic background (W9)   \n",
       "28       Male  over 34                                                NaN   \n",
       "29       Male    18-24              Black or Black British - African (B2)   \n",
       "...       ...      ...                                                ...   \n",
       "10324    Male    18-24                                    Not Stated (NS)   \n",
       "10325    Male    18-24                                    Not Stated (NS)   \n",
       "10326    Male    10-17             Mixed - White and Black Caribbean (M1)   \n",
       "10327    Male    18-24              Black or Black British - African (B2)   \n",
       "10328    Male    10-17                         White - White British (W1)   \n",
       "10329  Female  over 34                         White - White British (W1)   \n",
       "10330  Female    25-34                         White - White British (W1)   \n",
       "10331    Male    25-34                         White - White British (W1)   \n",
       "10332    Male    25-34  Black or Black British - Any other Black ethni...   \n",
       "10333    Male    25-34              Black or Black British - African (B2)   \n",
       "10334    Male  over 34     Mixed - Any other Mixed ethnic background (M9)   \n",
       "10335    Male    25-34            Asian or Asian British - Pakistani (A2)   \n",
       "10336    Male    25-34               Asian or Asian British - Indian (A1)   \n",
       "10337    Male    18-24                         White - White British (W1)   \n",
       "10338    Male    18-24                         White - White British (W1)   \n",
       "10339    Male    18-24                         White - White British (W1)   \n",
       "10340    Male    25-34               Asian or Asian British - Indian (A1)   \n",
       "10341    Male  over 34                                    Not Stated (NS)   \n",
       "10342    Male  over 34                                    Not Stated (NS)   \n",
       "10343    Male    18-24                                    Not Stated (NS)   \n",
       "10344    Male    10-17                         White - White British (W1)   \n",
       "10345    Male  over 34                                    Not Stated (NS)   \n",
       "10346    Male    18-24                         White - White British (W1)   \n",
       "10347    Male    18-24                         White - White British (W1)   \n",
       "10348    Male    10-17                         White - White British (W1)   \n",
       "10349    Male    18-24                                    Not Stated (NS)   \n",
       "10350    Male    10-17                                    Not Stated (NS)   \n",
       "10351    Male    10-17                                    Not Stated (NS)   \n",
       "10352    Male    25-34            Asian or Asian British - Pakistani (A2)   \n",
       "10353  Female    18-24                         White - White British (W1)   \n",
       "\n",
       "      Officer-ethnicity          Object of search  \\\n",
       "0                 White          Controlled drugs   \n",
       "1                 White          Controlled drugs   \n",
       "2                 White          Controlled drugs   \n",
       "3                 Black         Offensive weapons   \n",
       "4                 White          Controlled drugs   \n",
       "5                 White          Controlled drugs   \n",
       "6                 Asian          Controlled drugs   \n",
       "7                 Asian          Controlled drugs   \n",
       "8                 White          Controlled drugs   \n",
       "9                 White         Offensive weapons   \n",
       "10                Black          Controlled drugs   \n",
       "11                Black          Controlled drugs   \n",
       "12                Black          Controlled drugs   \n",
       "13                White          Controlled drugs   \n",
       "14                White          Controlled drugs   \n",
       "15                Black          Controlled drugs   \n",
       "16                White          Controlled drugs   \n",
       "17                Black          Controlled drugs   \n",
       "18                Asian          Controlled drugs   \n",
       "19                White          Controlled drugs   \n",
       "20                White          Controlled drugs   \n",
       "21                White          Controlled drugs   \n",
       "22                Asian          Controlled drugs   \n",
       "23                White          Controlled drugs   \n",
       "24                White              Stolen goods   \n",
       "25                Black          Controlled drugs   \n",
       "26                Black          Controlled drugs   \n",
       "27                White          Controlled drugs   \n",
       "28                White  Article for use in theft   \n",
       "29                Black          Controlled drugs   \n",
       "...                 ...                       ...   \n",
       "10324             White              Stolen goods   \n",
       "10325             White  Article for use in theft   \n",
       "10326             Black          Controlled drugs   \n",
       "10327             Black          Controlled drugs   \n",
       "10328             White          Controlled drugs   \n",
       "10329             White          Controlled drugs   \n",
       "10330             White          Controlled drugs   \n",
       "10331             White          Controlled drugs   \n",
       "10332             Black          Controlled drugs   \n",
       "10333             Black          Controlled drugs   \n",
       "10334             Black          Controlled drugs   \n",
       "10335             Asian          Controlled drugs   \n",
       "10336             Asian  Article for use in theft   \n",
       "10337             White              Stolen goods   \n",
       "10338             White              Stolen goods   \n",
       "10339             White              Stolen goods   \n",
       "10340             Asian          Controlled drugs   \n",
       "10341             Black              Stolen goods   \n",
       "10342             Black              Stolen goods   \n",
       "10343             White              Stolen goods   \n",
       "10344             White         Offensive weapons   \n",
       "10345             Black              Stolen goods   \n",
       "10346             White          Controlled drugs   \n",
       "10347             White          Controlled drugs   \n",
       "10348             White                  Firearms   \n",
       "10349             White                  Firearms   \n",
       "10350             Black                       NaN   \n",
       "10351             White                  Firearms   \n",
       "10352             Asian          Controlled drugs   \n",
       "10353             White         Offensive weapons   \n",
       "\n",
       "                                            Outcome  \n",
       "0      Article found - Detailed outcome unavailable  \n",
       "1      Article found - Detailed outcome unavailable  \n",
       "2      Article found - Detailed outcome unavailable  \n",
       "3                 Nothing found - no further action  \n",
       "4                 Nothing found - no further action  \n",
       "5                 Nothing found - no further action  \n",
       "6                 Nothing found - no further action  \n",
       "7                 Nothing found - no further action  \n",
       "8                                  Suspect arrested  \n",
       "9                 Nothing found - no further action  \n",
       "10                Nothing found - no further action  \n",
       "11                Nothing found - no further action  \n",
       "12                Nothing found - no further action  \n",
       "13                               Offender cautioned  \n",
       "14                       Suspect summonsed to court  \n",
       "15                Nothing found - no further action  \n",
       "16                                 Suspect arrested  \n",
       "17                Nothing found - no further action  \n",
       "18                Nothing found - no further action  \n",
       "19                Nothing found - no further action  \n",
       "20                Nothing found - no further action  \n",
       "21                Nothing found - no further action  \n",
       "22                Nothing found - no further action  \n",
       "23                                 Suspect arrested  \n",
       "24                Nothing found - no further action  \n",
       "25                Nothing found - no further action  \n",
       "26     Article found - Detailed outcome unavailable  \n",
       "27                Nothing found - no further action  \n",
       "28                Nothing found - no further action  \n",
       "29                Nothing found - no further action  \n",
       "...                                             ...  \n",
       "10324                              Suspect arrested  \n",
       "10325                              Suspect arrested  \n",
       "10326             Nothing found - no further action  \n",
       "10327             Nothing found - no further action  \n",
       "10328             Nothing found - no further action  \n",
       "10329             Nothing found - no further action  \n",
       "10330             Nothing found - no further action  \n",
       "10331             Nothing found - no further action  \n",
       "10332             Nothing found - no further action  \n",
       "10333             Nothing found - no further action  \n",
       "10334             Nothing found - no further action  \n",
       "10335                              Suspect arrested  \n",
       "10336             Nothing found - no further action  \n",
       "10337                              Suspect arrested  \n",
       "10338                              Suspect arrested  \n",
       "10339                              Suspect arrested  \n",
       "10340             Nothing found - no further action  \n",
       "10341             Nothing found - no further action  \n",
       "10342             Nothing found - no further action  \n",
       "10343                              Suspect arrested  \n",
       "10344                              Suspect arrested  \n",
       "10345             Nothing found - no further action  \n",
       "10346             Nothing found - no further action  \n",
       "10347  Article found - Detailed outcome unavailable  \n",
       "10348       Offender given drugs possession warning  \n",
       "10349             Nothing found - no further action  \n",
       "10350       Offender given drugs possession warning  \n",
       "10351  Article found - Detailed outcome unavailable  \n",
       "10352                    Suspect summonsed to court  \n",
       "10353             Nothing found - no further action  \n",
       "\n",
       "[10354 rows x 6 columns]"
      ]
     },
     "execution_count": 82,
     "metadata": {},
     "output_type": "execute_result"
    }
   ],
   "source": [
    "df"
   ]
  },
  {
   "cell_type": "code",
   "execution_count": 83,
   "metadata": {},
   "outputs": [
    {
     "data": {
      "text/plain": [
       "(10354, 6)"
      ]
     },
     "execution_count": 83,
     "metadata": {},
     "output_type": "execute_result"
    }
   ],
   "source": [
    "df.shape"
   ]
  },
  {
   "cell_type": "code",
   "execution_count": 84,
   "metadata": {},
   "outputs": [
    {
     "data": {
      "text/plain": [
       "Gender               object\n",
       "Age                  object\n",
       "Suspect-ethnicity    object\n",
       "Officer-ethnicity    object\n",
       "Object of search     object\n",
       "Outcome              object\n",
       "dtype: object"
      ]
     },
     "execution_count": 84,
     "metadata": {},
     "output_type": "execute_result"
    }
   ],
   "source": [
    "df.dtypes"
   ]
  },
  {
   "cell_type": "code",
   "execution_count": 85,
   "metadata": {},
   "outputs": [
    {
     "data": {
      "text/plain": [
       "Index(['Gender', 'Age', 'Suspect-ethnicity', 'Officer-ethnicity',\n",
       "       'Object of search', 'Outcome'],\n",
       "      dtype='object')"
      ]
     },
     "execution_count": 85,
     "metadata": {},
     "output_type": "execute_result"
    }
   ],
   "source": [
    "df.columns"
   ]
  },
  {
   "cell_type": "code",
   "execution_count": 86,
   "metadata": {},
   "outputs": [
    {
     "data": {
      "text/html": [
       "<div>\n",
       "<style>\n",
       "    .dataframe thead tr:only-child th {\n",
       "        text-align: right;\n",
       "    }\n",
       "\n",
       "    .dataframe thead th {\n",
       "        text-align: left;\n",
       "    }\n",
       "\n",
       "    .dataframe tbody tr th {\n",
       "        vertical-align: top;\n",
       "    }\n",
       "</style>\n",
       "<table border=\"1\" class=\"dataframe\">\n",
       "  <thead>\n",
       "    <tr style=\"text-align: right;\">\n",
       "      <th></th>\n",
       "      <th>Gender</th>\n",
       "      <th>Age</th>\n",
       "      <th>Suspect-ethnicity</th>\n",
       "      <th>Officer-ethnicity</th>\n",
       "      <th>Object of search</th>\n",
       "      <th>Outcome</th>\n",
       "    </tr>\n",
       "  </thead>\n",
       "  <tbody>\n",
       "    <tr>\n",
       "      <th>count</th>\n",
       "      <td>10290</td>\n",
       "      <td>10169</td>\n",
       "      <td>9746</td>\n",
       "      <td>10165</td>\n",
       "      <td>10300</td>\n",
       "      <td>10354</td>\n",
       "    </tr>\n",
       "    <tr>\n",
       "      <th>unique</th>\n",
       "      <td>3</td>\n",
       "      <td>5</td>\n",
       "      <td>17</td>\n",
       "      <td>5</td>\n",
       "      <td>6</td>\n",
       "      <td>8</td>\n",
       "    </tr>\n",
       "    <tr>\n",
       "      <th>top</th>\n",
       "      <td>Male</td>\n",
       "      <td>18-24</td>\n",
       "      <td>White - White British (W1)</td>\n",
       "      <td>White</td>\n",
       "      <td>Controlled drugs</td>\n",
       "      <td>Nothing found - no further action</td>\n",
       "    </tr>\n",
       "    <tr>\n",
       "      <th>freq</th>\n",
       "      <td>9278</td>\n",
       "      <td>3915</td>\n",
       "      <td>5845</td>\n",
       "      <td>7022</td>\n",
       "      <td>7209</td>\n",
       "      <td>6590</td>\n",
       "    </tr>\n",
       "  </tbody>\n",
       "</table>\n",
       "</div>"
      ],
      "text/plain": [
       "       Gender    Age           Suspect-ethnicity Officer-ethnicity  \\\n",
       "count   10290  10169                        9746             10165   \n",
       "unique      3      5                          17                 5   \n",
       "top      Male  18-24  White - White British (W1)             White   \n",
       "freq     9278   3915                        5845              7022   \n",
       "\n",
       "        Object of search                            Outcome  \n",
       "count              10300                              10354  \n",
       "unique                 6                                  8  \n",
       "top     Controlled drugs  Nothing found - no further action  \n",
       "freq                7209                               6590  "
      ]
     },
     "execution_count": 86,
     "metadata": {},
     "output_type": "execute_result"
    }
   ],
   "source": [
    "df.describe(include='all')"
   ]
  },
  {
   "cell_type": "code",
   "execution_count": 87,
   "metadata": {},
   "outputs": [
    {
     "data": {
      "text/plain": [
       "array(['White - White British (W1)',\n",
       "       'Black or Black British - Caribbean (B1)', 'Not Stated (NS)',\n",
       "       'Asian or Asian British - Indian (A1)',\n",
       "       'White - Any other White ethnic background (W9)', nan,\n",
       "       'Black or Black British - African (B2)',\n",
       "       'Mixed - White and Asian (M3)',\n",
       "       'Mixed - Any other Mixed ethnic background (M9)',\n",
       "       'Asian or Asian British - Pakistani (A2)',\n",
       "       'Mixed - White and Black Caribbean (M1)',\n",
       "       'Chinese or other ethnic group - Chinese (O1)',\n",
       "       'Black or Black British - Any other Black ethnic background (B9)',\n",
       "       'Asian or Asian British - Any other Asian ethnic background (A9)',\n",
       "       'Mixed - White and Black African (M2)',\n",
       "       'Chinese or other ethnic group - Any other ethnic group (O9)',\n",
       "       'White - White Irish (W2)',\n",
       "       'Asian or Asian British - Bangladeshi (A3)'], dtype=object)"
      ]
     },
     "execution_count": 87,
     "metadata": {},
     "output_type": "execute_result"
    }
   ],
   "source": [
    "df['Suspect-ethnicity'].unique()"
   ]
  },
  {
   "cell_type": "code",
   "execution_count": 88,
   "metadata": {},
   "outputs": [
    {
     "data": {
      "text/plain": [
       "18"
      ]
     },
     "execution_count": 88,
     "metadata": {},
     "output_type": "execute_result"
    }
   ],
   "source": [
    "len(df['Suspect-ethnicity'].unique())"
   ]
  },
  {
   "cell_type": "code",
   "execution_count": 89,
   "metadata": {},
   "outputs": [
    {
     "data": {
      "text/plain": [
       "array(['White', 'Black', 'Asian', nan, 'Other', 'Mixed'], dtype=object)"
      ]
     },
     "execution_count": 89,
     "metadata": {},
     "output_type": "execute_result"
    }
   ],
   "source": [
    "df['Officer-ethnicity'].unique()"
   ]
  },
  {
   "cell_type": "code",
   "execution_count": 90,
   "metadata": {},
   "outputs": [
    {
     "data": {
      "text/plain": [
       "(8959, 6)"
      ]
     },
     "execution_count": 90,
     "metadata": {},
     "output_type": "execute_result"
    }
   ],
   "source": [
    "#df.dropna(subset=['Suspect-ethnicity'], inplace=True)\n",
    "df = (df[(df['Suspect-ethnicity'].notnull()) & (df['Suspect-ethnicity']!='Not Stated (NS)') & (df['Officer-ethnicity'].notnull())]).copy()\n",
    "df.reset_index(drop=True, inplace=True)\n",
    "\n",
    "df.shape"
   ]
  },
  {
   "cell_type": "code",
   "execution_count": 91,
   "metadata": {},
   "outputs": [
    {
     "data": {
      "text/html": [
       "<div>\n",
       "<style>\n",
       "    .dataframe thead tr:only-child th {\n",
       "        text-align: right;\n",
       "    }\n",
       "\n",
       "    .dataframe thead th {\n",
       "        text-align: left;\n",
       "    }\n",
       "\n",
       "    .dataframe tbody tr th {\n",
       "        vertical-align: top;\n",
       "    }\n",
       "</style>\n",
       "<table border=\"1\" class=\"dataframe\">\n",
       "  <thead>\n",
       "    <tr style=\"text-align: right;\">\n",
       "      <th></th>\n",
       "      <th>Gender</th>\n",
       "      <th>Age</th>\n",
       "      <th>Suspect-ethnicity</th>\n",
       "      <th>Officer-ethnicity</th>\n",
       "      <th>Object of search</th>\n",
       "      <th>Outcome</th>\n",
       "    </tr>\n",
       "  </thead>\n",
       "  <tbody>\n",
       "    <tr>\n",
       "      <th>count</th>\n",
       "      <td>8950</td>\n",
       "      <td>8911</td>\n",
       "      <td>8959</td>\n",
       "      <td>8959</td>\n",
       "      <td>8915</td>\n",
       "      <td>8959</td>\n",
       "    </tr>\n",
       "    <tr>\n",
       "      <th>unique</th>\n",
       "      <td>3</td>\n",
       "      <td>5</td>\n",
       "      <td>16</td>\n",
       "      <td>5</td>\n",
       "      <td>6</td>\n",
       "      <td>8</td>\n",
       "    </tr>\n",
       "    <tr>\n",
       "      <th>top</th>\n",
       "      <td>Male</td>\n",
       "      <td>18-24</td>\n",
       "      <td>White - White British (W1)</td>\n",
       "      <td>White</td>\n",
       "      <td>Controlled drugs</td>\n",
       "      <td>Nothing found - no further action</td>\n",
       "    </tr>\n",
       "    <tr>\n",
       "      <th>freq</th>\n",
       "      <td>8053</td>\n",
       "      <td>3432</td>\n",
       "      <td>5826</td>\n",
       "      <td>6537</td>\n",
       "      <td>6319</td>\n",
       "      <td>5703</td>\n",
       "    </tr>\n",
       "  </tbody>\n",
       "</table>\n",
       "</div>"
      ],
      "text/plain": [
       "       Gender    Age           Suspect-ethnicity Officer-ethnicity  \\\n",
       "count    8950   8911                        8959              8959   \n",
       "unique      3      5                          16                 5   \n",
       "top      Male  18-24  White - White British (W1)             White   \n",
       "freq     8053   3432                        5826              6537   \n",
       "\n",
       "        Object of search                            Outcome  \n",
       "count               8915                               8959  \n",
       "unique                 6                                  8  \n",
       "top     Controlled drugs  Nothing found - no further action  \n",
       "freq                6319                               5703  "
      ]
     },
     "execution_count": 91,
     "metadata": {},
     "output_type": "execute_result"
    }
   ],
   "source": [
    "df.describe(include='all')"
   ]
  },
  {
   "cell_type": "code",
   "execution_count": 92,
   "metadata": {},
   "outputs": [],
   "source": [
    "df.drop('Gender', axis=1, inplace=True)"
   ]
  },
  {
   "cell_type": "code",
   "execution_count": 93,
   "metadata": {},
   "outputs": [
    {
     "data": {
      "text/plain": [
       "(8959, 5)"
      ]
     },
     "execution_count": 93,
     "metadata": {},
     "output_type": "execute_result"
    }
   ],
   "source": [
    "df.shape"
   ]
  },
  {
   "cell_type": "code",
   "execution_count": 94,
   "metadata": {},
   "outputs": [],
   "source": [
    "df.drop('Age', axis=1, inplace=True)"
   ]
  },
  {
   "cell_type": "code",
   "execution_count": 95,
   "metadata": {},
   "outputs": [
    {
     "data": {
      "text/plain": [
       "(8959, 4)"
      ]
     },
     "execution_count": 95,
     "metadata": {},
     "output_type": "execute_result"
    }
   ],
   "source": [
    "df.shape"
   ]
  },
  {
   "cell_type": "code",
   "execution_count": 96,
   "metadata": {},
   "outputs": [
    {
     "data": {
      "text/plain": [
       "array(['White', 'Black', 'Asian', 'Other', 'Mixed'], dtype=object)"
      ]
     },
     "execution_count": 96,
     "metadata": {},
     "output_type": "execute_result"
    }
   ],
   "source": [
    "df['Officer-ethnicity'].unique()"
   ]
  },
  {
   "cell_type": "code",
   "execution_count": 97,
   "metadata": {},
   "outputs": [
    {
     "data": {
      "text/html": [
       "<div>\n",
       "<style>\n",
       "    .dataframe thead tr:only-child th {\n",
       "        text-align: right;\n",
       "    }\n",
       "\n",
       "    .dataframe thead th {\n",
       "        text-align: left;\n",
       "    }\n",
       "\n",
       "    .dataframe tbody tr th {\n",
       "        vertical-align: top;\n",
       "    }\n",
       "</style>\n",
       "<table border=\"1\" class=\"dataframe\">\n",
       "  <thead>\n",
       "    <tr style=\"text-align: right;\">\n",
       "      <th></th>\n",
       "      <th>Suspect-ethnicity</th>\n",
       "      <th>Officer-ethnicity</th>\n",
       "      <th>Object of search</th>\n",
       "      <th>Outcome</th>\n",
       "    </tr>\n",
       "  </thead>\n",
       "  <tbody>\n",
       "    <tr>\n",
       "      <th>count</th>\n",
       "      <td>8959</td>\n",
       "      <td>8959</td>\n",
       "      <td>8915</td>\n",
       "      <td>8959</td>\n",
       "    </tr>\n",
       "    <tr>\n",
       "      <th>unique</th>\n",
       "      <td>16</td>\n",
       "      <td>5</td>\n",
       "      <td>6</td>\n",
       "      <td>8</td>\n",
       "    </tr>\n",
       "    <tr>\n",
       "      <th>top</th>\n",
       "      <td>White - White British (W1)</td>\n",
       "      <td>White</td>\n",
       "      <td>Controlled drugs</td>\n",
       "      <td>Nothing found - no further action</td>\n",
       "    </tr>\n",
       "    <tr>\n",
       "      <th>freq</th>\n",
       "      <td>5826</td>\n",
       "      <td>6537</td>\n",
       "      <td>6319</td>\n",
       "      <td>5703</td>\n",
       "    </tr>\n",
       "  </tbody>\n",
       "</table>\n",
       "</div>"
      ],
      "text/plain": [
       "                 Suspect-ethnicity Officer-ethnicity  Object of search  \\\n",
       "count                         8959              8959              8915   \n",
       "unique                          16                 5                 6   \n",
       "top     White - White British (W1)             White  Controlled drugs   \n",
       "freq                          5826              6537              6319   \n",
       "\n",
       "                                  Outcome  \n",
       "count                                8959  \n",
       "unique                                  8  \n",
       "top     Nothing found - no further action  \n",
       "freq                                 5703  "
      ]
     },
     "execution_count": 97,
     "metadata": {},
     "output_type": "execute_result"
    }
   ],
   "source": [
    "df.describe(include='all')\n"
   ]
  },
  {
   "cell_type": "code",
   "execution_count": 153,
   "metadata": {},
   "outputs": [
    {
     "data": {
      "text/plain": [
       "8959"
      ]
     },
     "execution_count": 153,
     "metadata": {},
     "output_type": "execute_result"
    }
   ],
   "source": [
    "total = len(df['Suspect-ethnicity'])\n",
    "total"
   ]
  },
  {
   "cell_type": "code",
   "execution_count": 98,
   "metadata": {},
   "outputs": [
    {
     "data": {
      "text/plain": [
       "array(['Controlled drugs', 'Offensive weapons', 'Stolen goods',\n",
       "       'Articles for use in criminal damage', 'Article for use in theft',\n",
       "       'Firearms', nan], dtype=object)"
      ]
     },
     "execution_count": 98,
     "metadata": {},
     "output_type": "execute_result"
    }
   ],
   "source": [
    "df['Object of search'].unique()"
   ]
  },
  {
   "cell_type": "code",
   "execution_count": 107,
   "metadata": {},
   "outputs": [
    {
     "data": {
      "text/plain": [
       "array(['Article found - Detailed outcome unavailable',\n",
       "       'Nothing found - no further action', 'Suspect arrested',\n",
       "       'Offender cautioned', 'Suspect summonsed to court',\n",
       "       'Local resolution', 'Offender given drugs possession warning',\n",
       "       'Offender given penalty notice'], dtype=object)"
      ]
     },
     "execution_count": 107,
     "metadata": {},
     "output_type": "execute_result"
    }
   ],
   "source": [
    "suspects = df['Suspect-ethnicity']\n",
    "officers = df['Officer-ethnicity']\n",
    "outcomes = df['Outcome']\n",
    "\n",
    "outcomes.unique()"
   ]
  },
  {
   "cell_type": "code",
   "execution_count": 119,
   "metadata": {},
   "outputs": [
    {
     "data": {
      "text/plain": [
       "115"
      ]
     },
     "execution_count": 119,
     "metadata": {},
     "output_type": "execute_result"
    }
   ],
   "source": [
    "len(df[(df['Suspect-ethnicity'].str.contains('White')) & (df['Officer-ethnicity'].str.contains('Black')) & (df['Outcome']!='Nothing found - no further action')])"
   ]
  },
  {
   "cell_type": "code",
   "execution_count": 120,
   "metadata": {},
   "outputs": [
    {
     "data": {
      "text/plain": [
       "23"
      ]
     },
     "execution_count": 120,
     "metadata": {},
     "output_type": "execute_result"
    }
   ],
   "source": [
    "len(df[(df['Suspect-ethnicity'].str.contains('Black')) & (df['Officer-ethnicity'].str.contains('White')) & (df['Outcome']!='Nothing found - no further action')])"
   ]
  },
  {
   "cell_type": "code",
   "execution_count": 121,
   "metadata": {},
   "outputs": [
    {
     "data": {
      "text/plain": [
       "2342"
      ]
     },
     "execution_count": 121,
     "metadata": {},
     "output_type": "execute_result"
    }
   ],
   "source": [
    "len(df[(df['Suspect-ethnicity'].str.contains('White')) & (df['Officer-ethnicity'].str.contains('White')) & (df['Outcome']!='Nothing found - no further action')])"
   ]
  },
  {
   "cell_type": "code",
   "execution_count": 122,
   "metadata": {},
   "outputs": [
    {
     "data": {
      "text/plain": [
       "415"
      ]
     },
     "execution_count": 122,
     "metadata": {},
     "output_type": "execute_result"
    }
   ],
   "source": [
    "len(df[(df['Suspect-ethnicity'].str.contains('Black')) & (df['Officer-ethnicity'].str.contains('Black')) & (df['Outcome']!='Nothing found - no further action')])"
   ]
  },
  {
   "cell_type": "code",
   "execution_count": 126,
   "metadata": {},
   "outputs": [
    {
     "data": {
      "text/plain": [
       "array(['White - White British (W1)',\n",
       "       'Black or Black British - Caribbean (B1)',\n",
       "       'Asian or Asian British - Indian (A1)',\n",
       "       'White - Any other White ethnic background (W9)',\n",
       "       'Black or Black British - African (B2)',\n",
       "       'Mixed - White and Asian (M3)',\n",
       "       'Mixed - Any other Mixed ethnic background (M9)',\n",
       "       'Asian or Asian British - Pakistani (A2)',\n",
       "       'Mixed - White and Black Caribbean (M1)',\n",
       "       'Chinese or other ethnic group - Chinese (O1)',\n",
       "       'Black or Black British - Any other Black ethnic background (B9)',\n",
       "       'Mixed - White and Black African (M2)',\n",
       "       'Chinese or other ethnic group - Any other ethnic group (O9)',\n",
       "       'Asian or Asian British - Any other Asian ethnic background (A9)',\n",
       "       'White - White Irish (W2)',\n",
       "       'Asian or Asian British - Bangladeshi (A3)'], dtype=object)"
      ]
     },
     "execution_count": 126,
     "metadata": {},
     "output_type": "execute_result"
    }
   ],
   "source": [
    "df['Suspect-ethnicity'].unique()"
   ]
  },
  {
   "cell_type": "code",
   "execution_count": 127,
   "metadata": {},
   "outputs": [
    {
     "data": {
      "text/plain": [
       "array(['White', 'Black', 'Asian', 'Other', 'Mixed'], dtype=object)"
      ]
     },
     "execution_count": 127,
     "metadata": {},
     "output_type": "execute_result"
    }
   ],
   "source": [
    "df['Officer-ethnicity'].unique()"
   ]
  },
  {
   "cell_type": "code",
   "execution_count": 146,
   "metadata": {},
   "outputs": [],
   "source": [
    "w1_people=len(df[(df['Suspect-ethnicity'].str.contains('W1')) & (df['Officer-ethnicity'].str.contains('White'))])"
   ]
  },
  {
   "cell_type": "code",
   "execution_count": 147,
   "metadata": {},
   "outputs": [],
   "source": [
    "w2_people=len(df[(df['Suspect-ethnicity'].str.contains('W2')) & (df['Officer-ethnicity'].str.contains('White'))])"
   ]
  },
  {
   "cell_type": "code",
   "execution_count": 176,
   "metadata": {},
   "outputs": [],
   "source": [
    "w9_people=len(df[(df['Suspect-ethnicity'].str.contains('W9')) & (df['Officer-ethnicity'].str.contains('White'))])"
   ]
  },
  {
   "cell_type": "code",
   "execution_count": 156,
   "metadata": {},
   "outputs": [],
   "source": [
    "b1_people=len(df[(df['Suspect-ethnicity'].str.contains('B1')) & (df['Officer-ethnicity'].str.contains('Black'))])"
   ]
  },
  {
   "cell_type": "code",
   "execution_count": 157,
   "metadata": {},
   "outputs": [],
   "source": [
    "b2_people=len(df[(df['Suspect-ethnicity'].str.contains('B2')) & (df['Officer-ethnicity'].str.contains('Black'))])"
   ]
  },
  {
   "cell_type": "code",
   "execution_count": 158,
   "metadata": {},
   "outputs": [],
   "source": [
    "b9_people=len(df[(df['Suspect-ethnicity'].str.contains('B9')) & (df['Officer-ethnicity'].str.contains('Black'))])"
   ]
  },
  {
   "cell_type": "code",
   "execution_count": 159,
   "metadata": {},
   "outputs": [],
   "source": [
    "m1_people=len(df[(df['Suspect-ethnicity'].str.contains('M1')) & (df['Officer-ethnicity'].str.contains('Mixed'))])"
   ]
  },
  {
   "cell_type": "code",
   "execution_count": 160,
   "metadata": {},
   "outputs": [],
   "source": [
    "m2_people=len(df[(df['Suspect-ethnicity'].str.contains('M2')) & (df['Officer-ethnicity'].str.contains('Mixed'))])"
   ]
  },
  {
   "cell_type": "code",
   "execution_count": 161,
   "metadata": {},
   "outputs": [],
   "source": [
    "m3_people=len(df[(df['Suspect-ethnicity'].str.contains('M3')) & (df['Officer-ethnicity'].str.contains('Mixed'))])"
   ]
  },
  {
   "cell_type": "code",
   "execution_count": 162,
   "metadata": {},
   "outputs": [],
   "source": [
    "m9_people=len(df[(df['Suspect-ethnicity'].str.contains('M9')) & (df['Officer-ethnicity'].str.contains('Mixed'))])"
   ]
  },
  {
   "cell_type": "code",
   "execution_count": 163,
   "metadata": {},
   "outputs": [],
   "source": [
    "a1_people=len(df[(df['Suspect-ethnicity'].str.contains('A1')) & (df['Officer-ethnicity'].str.contains('Asian'))])"
   ]
  },
  {
   "cell_type": "code",
   "execution_count": 164,
   "metadata": {},
   "outputs": [],
   "source": [
    "a2_people=len(df[(df['Suspect-ethnicity'].str.contains('A2')) & (df['Officer-ethnicity'].str.contains('Asian'))])"
   ]
  },
  {
   "cell_type": "code",
   "execution_count": 165,
   "metadata": {},
   "outputs": [],
   "source": [
    "a3_people=len(df[(df['Suspect-ethnicity'].str.contains('A3')) & (df['Officer-ethnicity'].str.contains('Asian'))])"
   ]
  },
  {
   "cell_type": "code",
   "execution_count": 166,
   "metadata": {},
   "outputs": [],
   "source": [
    "a9_people=len(df[(df['Suspect-ethnicity'].str.contains('A9')) & (df['Officer-ethnicity'].str.contains('Asian'))])"
   ]
  },
  {
   "cell_type": "code",
   "execution_count": 167,
   "metadata": {},
   "outputs": [],
   "source": [
    "o1_people=len(df[(df['Suspect-ethnicity'].str.contains('O1')) & (df['Officer-ethnicity'].str.contains('Other'))])"
   ]
  },
  {
   "cell_type": "code",
   "execution_count": 168,
   "metadata": {},
   "outputs": [],
   "source": [
    "o9_people=len(df[(df['Suspect-ethnicity'].str.contains('O9')) & (df['Officer-ethnicity'].str.contains('Other'))])"
   ]
  },
  {
   "cell_type": "code",
   "execution_count": 177,
   "metadata": {},
   "outputs": [],
   "source": [
    "#Number of white people arrested by white officers\n",
    "w_people = w1_people + w2_people + w9_people\n",
    "p_white = (w_people * 100)/total"
   ]
  },
  {
   "cell_type": "code",
   "execution_count": 178,
   "metadata": {},
   "outputs": [],
   "source": [
    "#Number of black people arrested by black officers\n",
    "b_people= b1_people + b2_people + b9_people\n",
    "p_black = (b_people * 100)/total"
   ]
  },
  {
   "cell_type": "code",
   "execution_count": 179,
   "metadata": {},
   "outputs": [],
   "source": [
    "#Number of mixed people arrested by mixed officers\n",
    "m_people= m1_people + m2_people + m3_people + m9_people\n",
    "p_mixed = (m_people * 100)/total"
   ]
  },
  {
   "cell_type": "code",
   "execution_count": 180,
   "metadata": {},
   "outputs": [],
   "source": [
    "#Number of asian people arrested by asian people\n",
    "a_people = a1_people + a2_people + a3_people +a9_people\n",
    "p_asian = (a_people * 100)/total"
   ]
  },
  {
   "cell_type": "code",
   "execution_count": 181,
   "metadata": {},
   "outputs": [],
   "source": [
    "#Number of other people arrested by other officers\n",
    "o_people = o1_people + o9_people\n",
    "p_other = (o_people * 100)/total"
   ]
  },
  {
   "cell_type": "code",
   "execution_count": 183,
   "metadata": {},
   "outputs": [
    {
     "data": {
      "text/plain": [
       "91.44993860921977"
      ]
     },
     "execution_count": 183,
     "metadata": {},
     "output_type": "execute_result"
    }
   ],
   "source": [
    "#Procentage of suspects arrested by the officers which have the same ethnicity\n",
    "same_ethnicity = p_white + p_black + p_mixed + p_asian + p_other\n",
    "same_ethnicity"
   ]
  },
  {
   "cell_type": "code",
   "execution_count": 184,
   "metadata": {},
   "outputs": [
    {
     "data": {
      "text/plain": [
       "8.550061390780229"
      ]
     },
     "execution_count": 184,
     "metadata": {},
     "output_type": "execute_result"
    }
   ],
   "source": [
    "#Procentage of suspects arrested by the officers which do not have the same ethnicity\n",
    "different_ethnicity = 100 - same_ethnicity\n",
    "different_ethnicity"
   ]
  },
  {
   "cell_type": "markdown",
   "metadata": {},
   "source": [
    "<p>In conclusion, Thamves Valley Police is not rasist!</p>"
   ]
  },
  {
   "cell_type": "code",
   "execution_count": null,
   "metadata": {},
   "outputs": [],
   "source": []
  }
 ],
 "metadata": {
  "kernelspec": {
   "display_name": "Python 3",
   "language": "python",
   "name": "python3"
  },
  "language_info": {
   "codemirror_mode": {
    "name": "ipython",
    "version": 3
   },
   "file_extension": ".py",
   "mimetype": "text/x-python",
   "name": "python",
   "nbconvert_exporter": "python",
   "pygments_lexer": "ipython3",
   "version": "3.5.2"
  }
 },
 "nbformat": 4,
 "nbformat_minor": 2
}
